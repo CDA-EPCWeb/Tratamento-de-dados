{
 "cells": [
  {
   "cell_type": "code",
   "execution_count": 1,
   "metadata": {},
   "outputs": [],
   "source": [
    "## Importar bibliotecas "
   ]
  },
  {
   "cell_type": "code",
   "execution_count": 2,
   "metadata": {},
   "outputs": [],
   "source": [
    "import json # Json permite ler arquivos json\n",
    "import csv # csv permite ler e escrever arquivos csv"
   ]
  },
  {
   "cell_type": "code",
   "execution_count": 3,
   "metadata": {},
   "outputs": [],
   "source": [
    "##  Ler e armazenar tweets "
   ]
  },
  {
   "cell_type": "code",
   "execution_count": 4,
   "metadata": {
    "tags": []
   },
   "outputs": [],
   "source": [
    "# Abre o tweet em modo de leitura\n",
    "with open(\"100k_list_teste.json\", \"r\", encoding=\"utf-8\") as tweetfile:\n",
    "\n",
    "    # Armazena seu conteúdo em outra variável\n",
    "    conteudo = json.load(tweetfile) # \"json\" importa um subset de linguagem java e \".load\" utiliza esse subset para ler o arquivo json e retornar um dict\n",
    "\n"
   ]
  },
  {
   "cell_type": "code",
   "execution_count": 5,
   "metadata": {},
   "outputs": [],
   "source": [
    "## Lê se os tweets estão truncados e armazena em um CSV"
   ]
  },
  {
   "cell_type": "code",
   "execution_count": 6,
   "metadata": {
    "tags": []
   },
   "outputs": [
    {
     "output_type": "execute_result",
     "data": {
      "text/plain": "100000"
     },
     "metadata": {},
     "execution_count": 6
    }
   ],
   "source": [
    "\n",
    "# Cria listas para cada um dos valores desejados\n",
    "users = [] \n",
    "textos = []\n",
    "created_at = []\n",
    "\n",
    "# Cria um matriz com as listas\n",
    "tweets = [users, textos, created_at]\n",
    "\n",
    "# Preenche as listas \n",
    "for tweet in conteudo:\n",
    "    # Coleta o \"screen_name\" do usuário e \n",
    "    users.append(tweet['user']['screen_name']) # Coleta \"screen_name\"\n",
    "    created_at.append(tweet['created_at']['$date'].split('T')[0]) # Coleta apenas a data de criação, não pega timezone nem o horário\n",
    "\n",
    "    # Avalia se o tweet está truncado e coletar o texto\n",
    "    if tweet['truncated'] == False:\n",
    "        textos.append(tweet['text'])\n",
    "    else:\n",
    "        textos.append(tweet['extended_tweet']['full_text'])\n",
    "\n",
    "numtweets = len(textos) # salva o número de tweets\n",
    "numtweets\n"
   ]
  },
  {
   "cell_type": "code",
   "execution_count": 7,
   "metadata": {},
   "outputs": [],
   "source": [
    "## Cria um CSV com base nas listas preenchidas"
   ]
  },
  {
   "cell_type": "code",
   "execution_count": 8,
   "metadata": {
    "tags": []
   },
   "outputs": [
    {
     "output_type": "execute_result",
     "data": {
      "text/plain": "100000"
     },
     "metadata": {},
     "execution_count": 8
    }
   ],
   "source": [
    "with open('100k_user_text_date.csv', 'w', encoding=\"utf-8\", newline='') as csvfile: #cria o csv (encoding permite ler caracteres especiais)\n",
    "    writer = csv.writer(csvfile)\n",
    "\n",
    "    #escreve cabeçalho\n",
    "    writer.writerow((\"user\", \"text\", \"created_at\"))\n",
    "    \n",
    "    count = 0\n",
    "    #escreve cada uma das linhas\n",
    "    for i in range(numtweets):\n",
    "        writer.writerow((users[i], textos[i], created_at[i],))\n",
    "        count += 1\n",
    "\n",
    "count"
   ]
  },
  {
   "cell_type": "code",
   "execution_count": null,
   "metadata": {},
   "outputs": [],
   "source": []
  }
 ],
 "metadata": {
  "language_info": {
   "codemirror_mode": {
    "name": "ipython",
    "version": 3
   },
   "file_extension": ".py",
   "mimetype": "text/x-python",
   "name": "python",
   "nbconvert_exporter": "python",
   "pygments_lexer": "ipython3",
   "version": "3.8.3-final"
  },
  "orig_nbformat": 2,
  "kernelspec": {
   "name": "python_defaultSpec_1600812109899",
   "display_name": "Python 3.8.3 64-bit ('base': conda)"
  }
 },
 "nbformat": 4,
 "nbformat_minor": 2
}