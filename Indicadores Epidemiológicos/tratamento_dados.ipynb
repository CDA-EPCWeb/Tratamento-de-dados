{
 "cells": [
  {
   "cell_type": "code",
   "execution_count": 182,
   "metadata": {},
   "outputs": [],
   "source": [
    "import pandas as pd\n",
    "import datetime\n",
    "\n",
    "#Abre os bancos de dados necessários\n",
    "pop = pd.read_csv('base_csv/pop2020.csv')\n",
    "io = pd.read_csv('base_csv/caso_full.csv')"
   ]
  },
  {
   "cell_type": "code",
   "execution_count": 183,
   "metadata": {},
   "outputs": [],
   "source": [
    "#Arruma os nomes das colunas para realizar o merge\n",
    "pop.rename(columns={'Total':'total_inhabitants','Armenor':'city_ibge_code'}, inplace = True)"
   ]
  },
  {
   "cell_type": "code",
   "execution_count": 184,
   "metadata": {},
   "outputs": [],
   "source": [
    "#Filtra somente os dados do último dia das semanas epidemiológicas\n",
    "dates = ['2020-02-29', '2020-03-07', '2020-03-14','2020-03-21',\n",
    "         '2020-03-28', '2020-04-04', '2020-04-11', '2020-04-18',\n",
    "         '2020-04-25', '2020-05-02', '2020-05-09', '2020-05-16',\n",
    "         '2020-05-23', '2020-05-30', '2020-06-06', '2020-06-13',\n",
    "         '2020-06-20', '2020-06-27', '2020-07-04', '2020-07-11',\n",
    "         '2020-07-18', '2020-07-25', '2020-08-01','2020-08-08',\n",
    "         '2020-08-15','2020-08-22','2020-08-29','2020-09-05',\n",
    "         '2020-09-12','2020-09-19']\n",
    "\n",
    "datesDF = pd.DataFrame(dates,columns=['date'])\n",
    "\n",
    "select_for_dates = pd.merge(io,datesDF, how = 'inner')\n",
    "\n",
    "#Arruma o nome das colunas\n",
    "select_for_dates.rename(columns={'date':'week_last_day'}, inplace = True)\n"
   ]
  },
  {
   "cell_type": "code",
   "execution_count": 185,
   "metadata": {},
   "outputs": [],
   "source": [
    "#Classifica os estados por macro regiões\n",
    "def region(x):\n",
    "    regions = {\n",
    "        'norte':['AM','RR','AP','PA','TO','RO','AC'],\n",
    "        'nordeste':['MA','PI','CE','RN','PE','PB','SE','AL','BA'],\n",
    "        'centro-oeste':['MT','MS','GO','DF'],\n",
    "        'sudeste':['MG','SP','RJ','ES'],\n",
    "        'sul':['PR','RS','SC']       \n",
    "    }\n",
    "    for k,v in regions.items():\n",
    "        if x['state'] in v:\n",
    "            return k\n",
    "    \n",
    "select_for_dates['region'] = select_for_dates.apply(region,axis=1)"
   ]
  },
  {
   "cell_type": "code",
   "execution_count": 186,
   "metadata": {},
   "outputs": [],
   "source": [
    "#Cria uma coluna com a sigla de cada estado e uma com a região.\n",
    "states_list = {'ACRE':'AC','ALAGOAS':'AL','AMAPÁ':'AP','AMAZONAS':'AM',\n",
    "               'BAHIA':'BA','CEARÁ':'CE','ESPÍRITO SANTO':'ES','GOIÁS':'GO',\n",
    "               'MARANHÃO':'MA','MATO GROSSO':'MT','MATO GROSSO DO SUL':'MS',\n",
    "               'MINAS GERAIS':'MG','PARÁ':'PA','PARAÍBA':'PB','PARANÁ':'PR',\n",
    "               'PERNAMBUCO':'PE','PIAUÍ':'PI','RIO DE JANEIRO':'RJ',\n",
    "               'RIO GRANDE DO NORTE':'RN','RIO GRANDE DO SUL':'RS','RONDÔNIA':'RO',\n",
    "               'RORAIMA':'RR','SANTA CATARINA':'SC','SÃO PAULO':'SP','SERGIPE':'SE',\n",
    "               'TOCANTINS':'TO','DISTRITO FEDERAL':'DF'}\n",
    "pop['state']=pop['ARmaior'].apply(lambda x: states_list[x])\n",
    "pop['region']=pop.apply(region,axis=1)"
   ]
  },
  {
   "cell_type": "code",
   "execution_count": 187,
   "metadata": {},
   "outputs": [],
   "source": [
    "#Seleciona o df de população para cálculo por cidades\n",
    "pop_cities = pop[['city_ibge_code','total_inhabitants']].copy()\n",
    "pop_cities['city_ibge_code'] = pop_cities['city_ibge_code'].astype('int')"
   ]
  },
  {
   "cell_type": "code",
   "execution_count": 188,
   "metadata": {},
   "outputs": [],
   "source": [
    "#Seleciona o df de população para cálculo por estados\n",
    "pop_states = pop[['state','total_inhabitants']].copy()\n",
    "pop_states = pop_states.groupby(pop_states['state']).sum().reset_index()"
   ]
  },
  {
   "cell_type": "code",
   "execution_count": 189,
   "metadata": {},
   "outputs": [],
   "source": [
    "#Seleciona o df de população para cálculo por regiões\n",
    "pop_region = pop[['region','total_inhabitants']].copy()\n",
    "pop_region = pop_region.groupby(pop_region['region']).sum().reset_index()"
   ]
  },
  {
   "cell_type": "code",
   "execution_count": 190,
   "metadata": {},
   "outputs": [],
   "source": [
    "#Coloca o total da população das cidades no df selecionado por datas\n",
    "cities_df = pd.merge(select_for_dates,pop_cities, how ='inner')"
   ]
  },
  {
   "cell_type": "code",
   "execution_count": 191,
   "metadata": {},
   "outputs": [],
   "source": [
    "#Coloca o total da população dos estados no df selecionado por datas\n",
    "states_df = pd.merge(select_for_dates,pop_states, how ='inner')"
   ]
  },
  {
   "cell_type": "code",
   "execution_count": 192,
   "metadata": {},
   "outputs": [],
   "source": [
    "#Seleciona apenas os estados no df de estados\n",
    "states_df = states_df[states_df['place_type']=='state']"
   ]
  },
  {
   "cell_type": "code",
   "execution_count": 193,
   "metadata": {},
   "outputs": [],
   "source": [
    "#Seleciona somente os estados no df de regiões\n",
    "regions_df = select_for_dates.copy()\n",
    "regions_df = regions_df[regions_df['place_type']=='state']\n"
   ]
  },
  {
   "cell_type": "code",
   "execution_count": 194,
   "metadata": {},
   "outputs": [],
   "source": [
    "#Encontrar o valor dos novos casoso por semana, para cidades, estados e regiões\n",
    "last_place = 0\n",
    "last_num = 0 \n",
    "\n",
    "def get_num(x):\n",
    "    global last_num, last_place\n",
    "    if last_place == x['city_ibge_code']:\n",
    "        current = x['last_available_confirmed']-last_num\n",
    "        last_num = x['last_available_confirmed']\n",
    "        return current\n",
    "    else:\n",
    "        last_place = x['city_ibge_code']\n",
    "        last_num = 0\n",
    "        return get_num(x)\n",
    "\n",
    "\n",
    "cities_df = cities_df.sort_values(by=['city_ibge_code','week_last_day']).copy()\n",
    "cities_df['new_week_cases'] = cities_df.apply(get_num , axis=1)\n",
    "\n",
    "states_df = states_df.sort_values(by=['city_ibge_code','week_last_day']).copy()\n",
    "states_df['new_week_cases'] = states_df.apply(get_num , axis=1)\n",
    "\n",
    "regions_df = regions_df.sort_values(by=['city_ibge_code','week_last_day']).copy()\n",
    "regions_df['new_week_cases'] = regions_df.apply(get_num , axis=1)\n"
   ]
  },
  {
   "cell_type": "code",
   "execution_count": 195,
   "metadata": {},
   "outputs": [],
   "source": [
    "#Encontrar o valor dos novos óbitos por semana\n",
    "\n",
    "last_place = 0\n",
    "last_num = 0 \n",
    "\n",
    "def get_num(x):\n",
    "    global last_num, last_place\n",
    "    if last_place == x['city_ibge_code']:\n",
    "        current = x['last_available_deaths']-last_num\n",
    "        last_num = x['last_available_deaths']\n",
    "        return current\n",
    "    else:\n",
    "        last_place = x['city_ibge_code']\n",
    "        last_num = 0\n",
    "        return get_num(x)\n",
    "\n",
    "\n",
    "\n",
    "cities_df['new_week_deaths'] = cities_df.apply(get_num , axis=1)\n",
    "states_df['new_week_deaths'] = states_df.apply(get_num , axis=1)\n",
    "regions_df['new_week_deaths'] = regions_df.apply(get_num , axis=1)\n"
   ]
  },
  {
   "cell_type": "code",
   "execution_count": 196,
   "metadata": {},
   "outputs": [],
   "source": [
    "#DF por cidades\n",
    "cities_df= cities_df.copy().reset_index()\n",
    "cities_df = cities_df[['region','state','city','city_ibge_code','week_last_day','epidemiological_week','total_inhabitants','last_available_confirmed','last_available_deaths','new_week_cases','new_week_deaths']].copy()"
   ]
  },
  {
   "cell_type": "code",
   "execution_count": 197,
   "metadata": {},
   "outputs": [],
   "source": [
    "#DF por estado\n",
    "states_df = states_df[['state','city_ibge_code','week_last_day','epidemiological_week','total_inhabitants','last_available_confirmed','last_available_deaths','new_week_cases','new_week_deaths']].copy().reset_index()\n"
   ]
  },
  {
   "cell_type": "code",
   "execution_count": 198,
   "metadata": {},
   "outputs": [],
   "source": [
    "#DF por macro região \n",
    "regions_df = regions_df.groupby(['region','epidemiological_week','week_last_day']).sum().reset_index()\n",
    "regions_df = pd.merge(regions_df,pop_region, how = 'inner')\n",
    "regions_df = regions_df[['region','week_last_day','epidemiological_week','total_inhabitants','last_available_confirmed','last_available_deaths','new_week_cases','new_week_deaths']].copy()"
   ]
  },
  {
   "cell_type": "code",
   "execution_count": 199,
   "metadata": {},
   "outputs": [],
   "source": [
    "#DF Brasil\n",
    "brazil_df = states_df.groupby(['epidemiological_week','week_last_day']).sum().reset_index()\n",
    "brazil_df = brazil_df[['week_last_day','epidemiological_week','last_available_confirmed','last_available_deaths','new_week_cases','new_week_deaths']].copy()\n",
    "#Corrige o valor da população total\n",
    "total_inhabitants = pop['total_inhabitants'].sum()\n",
    "brazil_df['total_inhabitants']= brazil_df.apply(lambda x: total_inhabitants,axis=1)\n",
    "brazil_df = brazil_df[['week_last_day','epidemiological_week','total_inhabitants','last_available_confirmed','last_available_deaths','new_week_cases','new_week_deaths']].copy()\n"
   ]
  },
  {
   "cell_type": "code",
   "execution_count": 200,
   "metadata": {},
   "outputs": [],
   "source": [
    "#---------------------Indicadores ---------------------"
   ]
  },
  {
   "cell_type": "code",
   "execution_count": 201,
   "metadata": {},
   "outputs": [],
   "source": [
    "#Indicador de Casos e Óbitos acumulados,por semana epidemiológica, já esta no DF, \n",
    "#respesctivamente nas colunas last_available_confirmed e last_available_deaths"
   ]
  },
  {
   "cell_type": "code",
   "execution_count": 202,
   "metadata": {},
   "outputs": [],
   "source": [
    "#Novos Casos e Novos Óbitos, por semana epidemiológica, já está no DF,\n",
    "#respesctivamente nas colunas new_week_cases e new_week_deaths"
   ]
  },
  {
   "cell_type": "code",
   "execution_count": 203,
   "metadata": {},
   "outputs": [],
   "source": [
    "def indicators_state_city(data_frame):\n",
    "    #Prevalência\n",
    "    data_frame['prevalence'] = data_frame.apply(lambda x:x['last_available_confirmed']*100000/x['total_inhabitants'] , axis=1)\n",
    "    \n",
    "    #Indicador Mortalidade\n",
    "    data_frame['mortality'] = data_frame.apply(lambda x:x['last_available_deaths']*100000/x['total_inhabitants'] , axis=1)\n",
    "    \n",
    "    #Indicador de Letalidade em %\n",
    "    def lethality(x):\n",
    "        if x['last_available_confirmed']==0:\n",
    "            return 0\n",
    "        else:\n",
    "            return x['last_available_deaths']/x['last_available_confirmed']*100\n",
    "    data_frame['lethality'] = data_frame.apply(lethality, axis=1)\n",
    "    \n",
    "    #Incidência de novos casos\n",
    "    data_frame['incidence_cases'] = data_frame.apply(lambda x:x['new_week_cases']*100000/x['total_inhabitants'] , axis=1)\n",
    "    \n",
    "    #Incidência de novos óbitos\n",
    "    data_frame['incidence_deaths'] = data_frame.apply(lambda x:x['new_week_deaths']*100000/x['total_inhabitants'] , axis=1)\n",
    "\n",
    "    #Indicador Fator de Crescimento  dos casos\n",
    "    last_number_cases=0\n",
    "    last_place_cases = ''\n",
    "\n",
    "    def get_FC_cases(x):\n",
    "        nonlocal last_number_cases, last_place_cases\n",
    "        \n",
    "        if last_place_cases != x['city_ibge_code']:\n",
    "            last_place_cases = x['city_ibge_code']\n",
    "            last_number_cases = x['new_week_cases']\n",
    "            return 0  \n",
    "        elif last_number_cases ==0:\n",
    "            last_number_cases = x['new_week_cases']\n",
    "            return 0\n",
    "            \n",
    "        else:\n",
    "            fc= x['new_week_cases']/last_number_cases\n",
    "            last_number_cases = x['new_week_cases']\n",
    "            return fc\n",
    "\n",
    "    data_frame['cases_growth_factor'] = data_frame.apply(get_FC_cases, axis=1)\n",
    "\n",
    "    #Indicador Fator de Crescimento  dos óbitos\n",
    "    last_number_deaths=0\n",
    "    last_place_deaths = ''\n",
    "    \n",
    "\n",
    "    def get_FC_deaths(x):\n",
    "        nonlocal last_number_deaths, last_place_deaths\n",
    "        \n",
    "        if last_place_deaths != x['city_ibge_code']:\n",
    "            last_place_deaths = x['city_ibge_code']\n",
    "            last_number_deaths = x['new_week_deaths']\n",
    "            return 0 \n",
    "        elif last_number_deaths ==0:\n",
    "            last_number_deaths = x['new_week_deaths']\n",
    "            return 0\n",
    "        \n",
    "        else:\n",
    "            fc= x['new_week_deaths']/last_number_deaths\n",
    "            last_number_deaths = x['new_week_deaths']\n",
    "            return fc\n",
    "\n",
    "    data_frame['deaths_growth_factor'] = data_frame.apply(get_FC_deaths, axis=1)"
   ]
  },
  {
   "cell_type": "code",
   "execution_count": 204,
   "metadata": {},
   "outputs": [],
   "source": [
    "def indicators_region(data_frame):\n",
    "    #Prevalência\n",
    "    data_frame['prevalence'] = data_frame.apply(lambda x:x['last_available_confirmed']*100000/x['total_inhabitants'] , axis=1)\n",
    "    \n",
    "    #Indicador Mortalidade\n",
    "    data_frame['mortality'] = data_frame.apply(lambda x:x['last_available_deaths']*100000/x['total_inhabitants'] , axis=1)\n",
    "    \n",
    "    #Indicador de Letalidade em %\n",
    "    def lethality(x):\n",
    "        if x['last_available_confirmed']==0:\n",
    "            return 0\n",
    "        else:\n",
    "            return x['last_available_deaths']/x['last_available_confirmed']*100\n",
    "    data_frame['lethality'] = data_frame.apply(lethality, axis=1)\n",
    "    \n",
    "    #Incidência de novos casos\n",
    "    data_frame['incidence_cases'] = data_frame.apply(lambda x:x['new_week_cases']*100000/x['total_inhabitants'] , axis=1)\n",
    "    \n",
    "    #Incidência de novos óbitos\n",
    "    data_frame['incidence_deaths'] = data_frame.apply(lambda x:x['new_week_deaths']*100000/x['total_inhabitants'] , axis=1)\n",
    "\n",
    "    #Indicador Fator de Crescimento  dos casos\n",
    "    last_number_cases=0\n",
    "    last_place_cases = ''\n",
    "\n",
    "    def get_FC_cases(x):\n",
    "        nonlocal last_number_cases, last_place_cases\n",
    "        \n",
    "        if last_place_cases != x['region']:\n",
    "            last_place_cases = x['region']\n",
    "            last_number_cases = x['new_week_cases']\n",
    "            return 0  \n",
    "        elif last_number_cases ==0:\n",
    "            last_number_cases = x['new_week_cases']\n",
    "            return 0\n",
    "            \n",
    "        else:\n",
    "            fc= x['new_week_cases']/last_number_cases\n",
    "            last_number_cases = x['new_week_cases']\n",
    "            return fc\n",
    "\n",
    "    data_frame['cases_growth_factor'] = data_frame.apply(get_FC_cases, axis=1)\n",
    "\n",
    "    #Indicador Fator de Crescimento  dos óbitos\n",
    "    last_number_deaths=0\n",
    "    last_place_deaths = ''\n",
    "    \n",
    "\n",
    "    def get_FC_deaths(x):\n",
    "        nonlocal last_number_deaths, last_place_deaths\n",
    "        \n",
    "        if last_place_deaths != x['region']:\n",
    "            last_place_deaths = x['region']\n",
    "            last_number_deaths = x['new_week_deaths']\n",
    "            return 0 \n",
    "        elif last_number_deaths ==0:\n",
    "            last_number_deaths = x['new_week_deaths']\n",
    "            return 0\n",
    "        \n",
    "        else:\n",
    "            fc= x['new_week_deaths']/last_number_deaths\n",
    "            last_number_deaths = x['new_week_deaths']\n",
    "            return fc\n",
    "\n",
    "    data_frame['deaths_growth_factor'] = data_frame.apply(get_FC_deaths, axis=1)"
   ]
  },
  {
   "cell_type": "code",
   "execution_count": 205,
   "metadata": {},
   "outputs": [],
   "source": [
    "def indicators_brazil(data_frame):\n",
    "    #Prevalência\n",
    "    data_frame['prevalence'] = data_frame.apply(lambda x:x['last_available_confirmed']*100000/x['total_inhabitants'] , axis=1)\n",
    "    \n",
    "    #Indicador Mortalidade\n",
    "    data_frame['mortality'] = data_frame.apply(lambda x:x['last_available_deaths']*100000/x['total_inhabitants'] , axis=1)\n",
    "    \n",
    "    #Indicador de Letalidade em %\n",
    "    def lethality(x):\n",
    "        if x['last_available_confirmed']==0:\n",
    "            return 0\n",
    "        else:\n",
    "            return x['last_available_deaths']/x['last_available_confirmed']*100\n",
    "    data_frame['lethality'] = data_frame.apply(lethality, axis=1)\n",
    "    \n",
    "    #Incidência de novos casos\n",
    "    data_frame['incidence_cases'] = data_frame.apply(lambda x:x['new_week_cases']*100000/x['total_inhabitants'] , axis=1)\n",
    "    \n",
    "    #Incidência de novos óbitos\n",
    "    data_frame['incidence_deaths'] = data_frame.apply(lambda x:x['new_week_deaths']*100000/x['total_inhabitants'] , axis=1)\n",
    "\n",
    "    #Indicador Fator de Crescimento  dos casos\n",
    "    last_number_cases=0\n",
    "\n",
    "    def get_FC_cases(x):\n",
    "        nonlocal last_number_cases\n",
    "        if last_number_cases ==0:\n",
    "            last_number_cases = x['new_week_cases']\n",
    "            return 0\n",
    "        else:\n",
    "            fc= x['new_week_cases']/last_number_cases\n",
    "            last_number_cases = x['new_week_cases']\n",
    "            return fc\n",
    "\n",
    "    data_frame['cases_growth_factor'] = data_frame.apply(get_FC_cases, axis=1)\n",
    "\n",
    "    #Indicador Fator de Crescimento  dos óbitos\n",
    "    last_number_deaths=0\n",
    "    \n",
    "\n",
    "    def get_FC_deaths(x):\n",
    "        nonlocal last_number_deaths\n",
    "        if last_number_deaths ==0:\n",
    "            last_number_deaths = x['new_week_deaths']\n",
    "            return 0\n",
    "        \n",
    "        else:\n",
    "            fc= x['new_week_deaths']/last_number_deaths\n",
    "            last_number_deaths = x['new_week_deaths']\n",
    "            return fc\n",
    "\n",
    "    data_frame['deaths_growth_factor'] = data_frame.apply(get_FC_deaths, axis=1)"
   ]
  },
  {
   "cell_type": "code",
   "execution_count": 206,
   "metadata": {},
   "outputs": [],
   "source": [
    "#Calcula os indicadores\n",
    "indicators_region(regions_df)\n",
    "indicators_brazil(brazil_df)\n",
    "indicators_state_city(cities_df)\n",
    "indicators_state_city(states_df)\n"
   ]
  },
  {
   "cell_type": "code",
   "execution_count": 207,
   "metadata": {},
   "outputs": [],
   "source": [
    "c_df = cities_df.copy()\n",
    "tp2 = c_df[c_df['city'] == \"aaa\"].copy()\n",
    "cities = list(c_df.city.unique())\n",
    "date = {}\n",
    "dia = datetime.timedelta(days=7)\n",
    "for ct in cities:\n",
    "    week = c_df[c_df['city'] == ct]['epidemiological_week'].min()\n",
    "    tp1 = c_df[c_df['city'] == ct][c_df['epidemiological_week']==week].copy()\n",
    "    wld = list(tp1.week_last_day.values)[0]\n",
    "    wld = datetime.datetime.strptime(wld,\"%Y-%m-%d\")\n",
    "    wld = wld-dia\n",
    "    wld = wld.isoformat().split('T')[0]\n",
    "    tp1.week_last_day = wld\n",
    "    week = week - 1\n",
    "    tp1.epidemiological_week = week\n",
    "    tp1.new_week_cases = 0\n",
    "    tp1.new_week_deaths = 0\n",
    "    tp1.last_available_confirmed = 0\n",
    "    tp1.last_available_deaths = 0\n",
    "    tp1.prevalence = 0\n",
    "    tp1.mortality = 0\n",
    "    tp1.lethality = 0\n",
    "    tp1.incidence_cases = 0\n",
    "    tp1.cases_growth_factor = 0\n",
    "    tp1.deaths_growth_factor = 0\n",
    "    while week >9:\n",
    "        tp = tp1[-1:].copy()\n",
    "        wld = list(tp.week_last_day.values)[0]\n",
    "        wld = datetime.datetime.strptime(wld,\"%Y-%m-%d\")\n",
    "        wld = wld-dia\n",
    "        wld = wld.isoformat().split('T')[0]\n",
    "        tp.week_last_day = wld\n",
    "        week = week-1\n",
    "        tp.epidemiological_week = week\n",
    "        tp1 = tp1.append(tp,ignore_index=True)\n",
    "    tp2 = tp2.append(tp1)"
   ]
  },
  {
   "cell_type": "code",
   "execution_count": 208,
   "metadata": {},
   "outputs": [],
   "source": [
    "cities_df = cities_df.append(tp2,ignore_index=True)\n",
    "cities_df = cities_df.sort_values(['city','epidemiological_week'])"
   ]
  },
  {
   "cell_type": "code",
   "execution_count": 209,
   "metadata": {},
   "outputs": [],
   "source": [
    "s_df = states_df.copy()\n",
    "tp2 = s_df[s_df['state'] == \"aaa\"].copy()\n",
    "states = list(s_df.state.unique())\n",
    "date = {}\n",
    "dia = datetime.timedelta(days=7)\n",
    "for st in states:\n",
    "    week = s_df[s_df['state'] == st]['epidemiological_week'].min()\n",
    "    if week > 9:\n",
    "        tp1 = s_df[s_df['state'] == st][s_df['epidemiological_week']==week].copy()\n",
    "        wld = list(tp1.week_last_day.values)[0]\n",
    "        wld = datetime.datetime.strptime(wld,\"%Y-%m-%d\")\n",
    "        wld = wld-dia\n",
    "        wld = wld.isoformat().split('T')[0]\n",
    "        tp1.week_last_day = wld\n",
    "        week = week - 1\n",
    "        tp1.epidemiological_week = week\n",
    "        tp1.new_week_cases = 0\n",
    "        tp1.new_week_deaths = 0\n",
    "        tp1.last_available_confirmed = 0\n",
    "        tp1.last_available_deaths = 0\n",
    "        tp1.prevalence = 0\n",
    "        tp1.mortality = 0\n",
    "        tp1.lethality = 0\n",
    "        tp1.incidence_cases = 0\n",
    "        tp1.cases_growth_factor = 0\n",
    "        tp1.deaths_growth_factor = 0\n",
    "        while week >9:\n",
    "            tp = tp1[-1:].copy()\n",
    "            wld = list(tp.week_last_day.values)[0]\n",
    "            wld = datetime.datetime.strptime(wld,\"%Y-%m-%d\")\n",
    "            wld = wld-dia\n",
    "            wld = wld.isoformat().split('T')[0]\n",
    "            tp.week_last_day = wld\n",
    "            week = week-1\n",
    "            tp.epidemiological_week = week\n",
    "            tp1 = tp1.append(tp,ignore_index=True)\n",
    "        tp2 = tp2.append(tp1,ignore_index=True)"
   ]
  },
  {
   "cell_type": "code",
   "execution_count": 210,
   "metadata": {},
   "outputs": [],
   "source": [
    "states_df = states_df.append(tp2,ignore_index=True)\n",
    "states_df = states_df.sort_values(['state','epidemiological_week'])"
   ]
  },
  {
   "cell_type": "code",
   "execution_count": 211,
   "metadata": {},
   "outputs": [],
   "source": [
    "s_df = regions_df.copy()\n",
    "tp2 = s_df[s_df['region'] == \"aaa\"].copy()\n",
    "states = list(s_df.region.unique())\n",
    "date = {}\n",
    "dia = datetime.timedelta(days=7)\n",
    "for st in states:\n",
    "    week = s_df[s_df['region'] == st]['epidemiological_week'].min()\n",
    "    if week > 9:\n",
    "        tp1 = s_df[s_df['region'] == st][s_df['epidemiological_week']==week].copy()\n",
    "        wld = list(tp1.week_last_day.values)[0]\n",
    "        wld = datetime.datetime.strptime(wld,\"%Y-%m-%d\")\n",
    "        wld = wld-dia\n",
    "        wld = wld.isoformat().split('T')[0]\n",
    "        tp1.week_last_day = wld\n",
    "        week = week - 1\n",
    "        tp1.epidemiological_week = week\n",
    "        tp1.new_week_cases = 0\n",
    "        tp1.new_week_deaths = 0\n",
    "        tp1.last_available_confirmed = 0\n",
    "        tp1.last_available_deaths = 0\n",
    "        tp1.prevalence = 0\n",
    "        tp1.mortality = 0\n",
    "        tp1.lethality = 0\n",
    "        tp1.incidence_cases = 0\n",
    "        tp1.cases_growth_factor = 0\n",
    "        tp1.deaths_growth_factor = 0\n",
    "        while week >9:\n",
    "            tp = tp1[-1:].copy()\n",
    "            wld = list(tp.week_last_day.values)[0]\n",
    "            wld = datetime.datetime.strptime(wld,\"%Y-%m-%d\")\n",
    "            wld = wld-dia\n",
    "            wld = wld.isoformat().split('T')[0]\n",
    "            tp.week_last_day = wld\n",
    "            week = week-1\n",
    "            tp.epidemiological_week = week\n",
    "            tp1 = tp1.append(tp,ignore_index=True)\n",
    "        tp2 = tp2.append(tp1,ignore_index=True)"
   ]
  },
  {
   "cell_type": "code",
   "execution_count": 212,
   "metadata": {},
   "outputs": [],
   "source": [
    "egions_df = regions_df.append(tp2,ignore_index=True)\n",
    "regions_df = regions_df.sort_values(['region','epidemiological_week'])"
   ]
  },
  {
   "source": [
    "## Criar df de regiões imediatas\n"
   ],
   "cell_type": "markdown",
   "metadata": {}
  },
  {
   "cell_type": "code",
   "execution_count": 213,
   "metadata": {},
   "outputs": [
    {
     "output_type": "execute_result",
     "data": {
      "text/plain": [
       "      city_ibge_code      imediate_reg  imed_reg_code\n",
       "0            1101104       Porto Velho         110001\n",
       "1            1100809       Porto Velho         110001\n",
       "2            1100338       Porto Velho         110001\n",
       "3            1100205       Porto Velho         110001\n",
       "4            1100106       Porto Velho         110001\n",
       "...              ...               ...            ...\n",
       "5564         5220009   Flores de Goiás         520022\n",
       "5565         5207907   Flores de Goiás         520022\n",
       "5566         5205307   Flores de Goiás         520022\n",
       "5567         5200605   Flores de Goiás         520022\n",
       "5569         5300108  Distrito Federal         530001\n",
       "\n",
       "[5570 rows x 3 columns]"
      ],
      "text/html": "<div>\n<style scoped>\n    .dataframe tbody tr th:only-of-type {\n        vertical-align: middle;\n    }\n\n    .dataframe tbody tr th {\n        vertical-align: top;\n    }\n\n    .dataframe thead th {\n        text-align: right;\n    }\n</style>\n<table border=\"1\" class=\"dataframe\">\n  <thead>\n    <tr style=\"text-align: right;\">\n      <th></th>\n      <th>city_ibge_code</th>\n      <th>imediate_reg</th>\n      <th>imed_reg_code</th>\n    </tr>\n  </thead>\n  <tbody>\n    <tr>\n      <th>0</th>\n      <td>1101104</td>\n      <td>Porto Velho</td>\n      <td>110001</td>\n    </tr>\n    <tr>\n      <th>1</th>\n      <td>1100809</td>\n      <td>Porto Velho</td>\n      <td>110001</td>\n    </tr>\n    <tr>\n      <th>2</th>\n      <td>1100338</td>\n      <td>Porto Velho</td>\n      <td>110001</td>\n    </tr>\n    <tr>\n      <th>3</th>\n      <td>1100205</td>\n      <td>Porto Velho</td>\n      <td>110001</td>\n    </tr>\n    <tr>\n      <th>4</th>\n      <td>1100106</td>\n      <td>Porto Velho</td>\n      <td>110001</td>\n    </tr>\n    <tr>\n      <th>...</th>\n      <td>...</td>\n      <td>...</td>\n      <td>...</td>\n    </tr>\n    <tr>\n      <th>5564</th>\n      <td>5220009</td>\n      <td>Flores de Goiás</td>\n      <td>520022</td>\n    </tr>\n    <tr>\n      <th>5565</th>\n      <td>5207907</td>\n      <td>Flores de Goiás</td>\n      <td>520022</td>\n    </tr>\n    <tr>\n      <th>5566</th>\n      <td>5205307</td>\n      <td>Flores de Goiás</td>\n      <td>520022</td>\n    </tr>\n    <tr>\n      <th>5567</th>\n      <td>5200605</td>\n      <td>Flores de Goiás</td>\n      <td>520022</td>\n    </tr>\n    <tr>\n      <th>5569</th>\n      <td>5300108</td>\n      <td>Distrito Federal</td>\n      <td>530001</td>\n    </tr>\n  </tbody>\n</table>\n<p>5570 rows × 3 columns</p>\n</div>"
     },
     "metadata": {},
     "execution_count": 213
    }
   ],
   "source": [
    "#Lê e processa o CSV que relaciona municípios com suas regiões imediatas\n",
    "\n",
    "csv_df = pd.read_csv( [path] + '\\\\regioes_geograficas_composicao_por_municipios_2017_20180911.csv', delimiter=';')\n",
    "csv_df.rename(columns={'CD_GEOCODI':'city_ibge_code', 'nome_mun':'city','nome_rgi':'imediate_reg', 'cod_rgi':'imed_reg_code'}, inplace=True)\n",
    "csv_df = csv_df[['city_ibge_code','imediate_reg','imed_reg_code' ]].copy()\n",
    "csv_df = csv_df.sort_values(by=['imed_reg_code']).copy()\n",
    "csv_df"
   ]
  },
  {
   "cell_type": "code",
   "execution_count": 214,
   "metadata": {},
   "outputs": [
    {
     "output_type": "execute_result",
     "data": {
      "text/plain": [
       "                imediate_reg  imed_reg_code  epidemiological_week  \\\n",
       "0                 Abaetetuba         150003                     9   \n",
       "1                 Abaetetuba         150003                    10   \n",
       "2                 Abaetetuba         150003                    11   \n",
       "3                 Abaetetuba         150003                    12   \n",
       "4                 Abaetetuba         150003                    13   \n",
       "...                      ...            ...                   ...   \n",
       "15296  Águas Lindas de Goiás         520020                    34   \n",
       "15297  Águas Lindas de Goiás         520020                    35   \n",
       "15298  Águas Lindas de Goiás         520020                    36   \n",
       "15299  Águas Lindas de Goiás         520020                    37   \n",
       "15300  Águas Lindas de Goiás         520020                    38   \n",
       "\n",
       "      week_last_day state        region  city_ibge_code  total_inhabitants  \\\n",
       "0        2020-02-29    PA         norte         6016072      439624.043680   \n",
       "1        2020-03-07    PA         norte         6016072      439624.043680   \n",
       "2        2020-03-14    PA         norte         6016072      439624.043680   \n",
       "3        2020-03-21    PA         norte         6016072      439624.043680   \n",
       "4        2020-03-28    PA         norte         6016072      439624.043680   \n",
       "...             ...   ...           ...             ...                ...   \n",
       "15296    2020-08-22    GO  centro-oeste        36464043      509801.646865   \n",
       "15297    2020-08-29    GO  centro-oeste        36464043      509801.646865   \n",
       "15298    2020-09-05    GO  centro-oeste        36464043      509801.646865   \n",
       "15299    2020-09-12    GO  centro-oeste        36464043      509801.646865   \n",
       "15300    2020-09-19    GO  centro-oeste        36464043      509801.646865   \n",
       "\n",
       "       last_available_confirmed  last_available_deaths  new_week_cases  \\\n",
       "0                             0                      0               0   \n",
       "1                             0                      0               0   \n",
       "2                             0                      0               0   \n",
       "3                             0                      0               0   \n",
       "4                             0                      0               0   \n",
       "...                         ...                    ...             ...   \n",
       "15296                      5357                    166             541   \n",
       "15297                      6093                    187             736   \n",
       "15298                      6864                    213             771   \n",
       "15299                      7248                    220             384   \n",
       "15300                      7701                    234             453   \n",
       "\n",
       "       new_week_deaths   prevalence  mortality  lethality  incidence_cases  \\\n",
       "0                    0     0.000000   0.000000   0.000000         0.000000   \n",
       "1                    0     0.000000   0.000000   0.000000         0.000000   \n",
       "2                    0     0.000000   0.000000   0.000000         0.000000   \n",
       "3                    0     0.000000   0.000000   0.000000         0.000000   \n",
       "4                    0     0.000000   0.000000   0.000000         0.000000   \n",
       "...                ...          ...        ...        ...              ...   \n",
       "15296               26  1050.800842  32.561684   3.098749       106.119704   \n",
       "15297               21  1195.170717  36.680933   3.069096       144.369875   \n",
       "15298               26  1346.406008  41.780956   3.103147       151.235290   \n",
       "15299                7  1421.729421  43.154039   3.035320        75.323413   \n",
       "15300               14  1510.587509  45.900205   3.038566        88.858089   \n",
       "\n",
       "       incidence_deaths  cases_growth_factor  deaths_growth_factor  \n",
       "0              0.000000             0.000000              0.000000  \n",
       "1              0.000000             0.000000              0.000000  \n",
       "2              0.000000             0.000000              0.000000  \n",
       "3              0.000000             0.000000              0.000000  \n",
       "4              0.000000             0.000000              0.000000  \n",
       "...                 ...                  ...                   ...  \n",
       "15296          5.100023             0.564718              2.600000  \n",
       "15297          4.119249             1.360444              0.807692  \n",
       "15298          5.100023             1.047554              1.238095  \n",
       "15299          1.373083             0.498054              0.269231  \n",
       "15300          2.746166             1.179688              2.000000  \n",
       "\n",
       "[15301 rows x 19 columns]"
      ],
      "text/html": "<div>\n<style scoped>\n    .dataframe tbody tr th:only-of-type {\n        vertical-align: middle;\n    }\n\n    .dataframe tbody tr th {\n        vertical-align: top;\n    }\n\n    .dataframe thead th {\n        text-align: right;\n    }\n</style>\n<table border=\"1\" class=\"dataframe\">\n  <thead>\n    <tr style=\"text-align: right;\">\n      <th></th>\n      <th>imediate_reg</th>\n      <th>imed_reg_code</th>\n      <th>epidemiological_week</th>\n      <th>week_last_day</th>\n      <th>state</th>\n      <th>region</th>\n      <th>city_ibge_code</th>\n      <th>total_inhabitants</th>\n      <th>last_available_confirmed</th>\n      <th>last_available_deaths</th>\n      <th>new_week_cases</th>\n      <th>new_week_deaths</th>\n      <th>prevalence</th>\n      <th>mortality</th>\n      <th>lethality</th>\n      <th>incidence_cases</th>\n      <th>incidence_deaths</th>\n      <th>cases_growth_factor</th>\n      <th>deaths_growth_factor</th>\n    </tr>\n  </thead>\n  <tbody>\n    <tr>\n      <th>0</th>\n      <td>Abaetetuba</td>\n      <td>150003</td>\n      <td>9</td>\n      <td>2020-02-29</td>\n      <td>PA</td>\n      <td>norte</td>\n      <td>6016072</td>\n      <td>439624.043680</td>\n      <td>0</td>\n      <td>0</td>\n      <td>0</td>\n      <td>0</td>\n      <td>0.000000</td>\n      <td>0.000000</td>\n      <td>0.000000</td>\n      <td>0.000000</td>\n      <td>0.000000</td>\n      <td>0.000000</td>\n      <td>0.000000</td>\n    </tr>\n    <tr>\n      <th>1</th>\n      <td>Abaetetuba</td>\n      <td>150003</td>\n      <td>10</td>\n      <td>2020-03-07</td>\n      <td>PA</td>\n      <td>norte</td>\n      <td>6016072</td>\n      <td>439624.043680</td>\n      <td>0</td>\n      <td>0</td>\n      <td>0</td>\n      <td>0</td>\n      <td>0.000000</td>\n      <td>0.000000</td>\n      <td>0.000000</td>\n      <td>0.000000</td>\n      <td>0.000000</td>\n      <td>0.000000</td>\n      <td>0.000000</td>\n    </tr>\n    <tr>\n      <th>2</th>\n      <td>Abaetetuba</td>\n      <td>150003</td>\n      <td>11</td>\n      <td>2020-03-14</td>\n      <td>PA</td>\n      <td>norte</td>\n      <td>6016072</td>\n      <td>439624.043680</td>\n      <td>0</td>\n      <td>0</td>\n      <td>0</td>\n      <td>0</td>\n      <td>0.000000</td>\n      <td>0.000000</td>\n      <td>0.000000</td>\n      <td>0.000000</td>\n      <td>0.000000</td>\n      <td>0.000000</td>\n      <td>0.000000</td>\n    </tr>\n    <tr>\n      <th>3</th>\n      <td>Abaetetuba</td>\n      <td>150003</td>\n      <td>12</td>\n      <td>2020-03-21</td>\n      <td>PA</td>\n      <td>norte</td>\n      <td>6016072</td>\n      <td>439624.043680</td>\n      <td>0</td>\n      <td>0</td>\n      <td>0</td>\n      <td>0</td>\n      <td>0.000000</td>\n      <td>0.000000</td>\n      <td>0.000000</td>\n      <td>0.000000</td>\n      <td>0.000000</td>\n      <td>0.000000</td>\n      <td>0.000000</td>\n    </tr>\n    <tr>\n      <th>4</th>\n      <td>Abaetetuba</td>\n      <td>150003</td>\n      <td>13</td>\n      <td>2020-03-28</td>\n      <td>PA</td>\n      <td>norte</td>\n      <td>6016072</td>\n      <td>439624.043680</td>\n      <td>0</td>\n      <td>0</td>\n      <td>0</td>\n      <td>0</td>\n      <td>0.000000</td>\n      <td>0.000000</td>\n      <td>0.000000</td>\n      <td>0.000000</td>\n      <td>0.000000</td>\n      <td>0.000000</td>\n      <td>0.000000</td>\n    </tr>\n    <tr>\n      <th>...</th>\n      <td>...</td>\n      <td>...</td>\n      <td>...</td>\n      <td>...</td>\n      <td>...</td>\n      <td>...</td>\n      <td>...</td>\n      <td>...</td>\n      <td>...</td>\n      <td>...</td>\n      <td>...</td>\n      <td>...</td>\n      <td>...</td>\n      <td>...</td>\n      <td>...</td>\n      <td>...</td>\n      <td>...</td>\n      <td>...</td>\n      <td>...</td>\n    </tr>\n    <tr>\n      <th>15296</th>\n      <td>Águas Lindas de Goiás</td>\n      <td>520020</td>\n      <td>34</td>\n      <td>2020-08-22</td>\n      <td>GO</td>\n      <td>centro-oeste</td>\n      <td>36464043</td>\n      <td>509801.646865</td>\n      <td>5357</td>\n      <td>166</td>\n      <td>541</td>\n      <td>26</td>\n      <td>1050.800842</td>\n      <td>32.561684</td>\n      <td>3.098749</td>\n      <td>106.119704</td>\n      <td>5.100023</td>\n      <td>0.564718</td>\n      <td>2.600000</td>\n    </tr>\n    <tr>\n      <th>15297</th>\n      <td>Águas Lindas de Goiás</td>\n      <td>520020</td>\n      <td>35</td>\n      <td>2020-08-29</td>\n      <td>GO</td>\n      <td>centro-oeste</td>\n      <td>36464043</td>\n      <td>509801.646865</td>\n      <td>6093</td>\n      <td>187</td>\n      <td>736</td>\n      <td>21</td>\n      <td>1195.170717</td>\n      <td>36.680933</td>\n      <td>3.069096</td>\n      <td>144.369875</td>\n      <td>4.119249</td>\n      <td>1.360444</td>\n      <td>0.807692</td>\n    </tr>\n    <tr>\n      <th>15298</th>\n      <td>Águas Lindas de Goiás</td>\n      <td>520020</td>\n      <td>36</td>\n      <td>2020-09-05</td>\n      <td>GO</td>\n      <td>centro-oeste</td>\n      <td>36464043</td>\n      <td>509801.646865</td>\n      <td>6864</td>\n      <td>213</td>\n      <td>771</td>\n      <td>26</td>\n      <td>1346.406008</td>\n      <td>41.780956</td>\n      <td>3.103147</td>\n      <td>151.235290</td>\n      <td>5.100023</td>\n      <td>1.047554</td>\n      <td>1.238095</td>\n    </tr>\n    <tr>\n      <th>15299</th>\n      <td>Águas Lindas de Goiás</td>\n      <td>520020</td>\n      <td>37</td>\n      <td>2020-09-12</td>\n      <td>GO</td>\n      <td>centro-oeste</td>\n      <td>36464043</td>\n      <td>509801.646865</td>\n      <td>7248</td>\n      <td>220</td>\n      <td>384</td>\n      <td>7</td>\n      <td>1421.729421</td>\n      <td>43.154039</td>\n      <td>3.035320</td>\n      <td>75.323413</td>\n      <td>1.373083</td>\n      <td>0.498054</td>\n      <td>0.269231</td>\n    </tr>\n    <tr>\n      <th>15300</th>\n      <td>Águas Lindas de Goiás</td>\n      <td>520020</td>\n      <td>38</td>\n      <td>2020-09-19</td>\n      <td>GO</td>\n      <td>centro-oeste</td>\n      <td>36464043</td>\n      <td>509801.646865</td>\n      <td>7701</td>\n      <td>234</td>\n      <td>453</td>\n      <td>14</td>\n      <td>1510.587509</td>\n      <td>45.900205</td>\n      <td>3.038566</td>\n      <td>88.858089</td>\n      <td>2.746166</td>\n      <td>1.179688</td>\n      <td>2.000000</td>\n    </tr>\n  </tbody>\n</table>\n<p>15301 rows × 19 columns</p>\n</div>"
     },
     "metadata": {},
     "execution_count": 214
    }
   ],
   "source": [
    "## cria o DF com base no cities_DF e no csv acima\n",
    "\n",
    "imedreg_df = cities_df[['region', 'state', 'city', 'city_ibge_code', 'week_last_day', 'epidemiological_week', 'total_inhabitants', 'last_available_confirmed', 'last_available_deaths', 'new_week_cases', 'new_week_deaths']].copy()\n",
    "imedreg_df = pd.merge(csv_df, imedreg_df, how='inner')\n",
    "imedreg_df = imedreg_df.sort_values(by=['city_ibge_code','week_last_day']).copy()\n",
    "\n",
    "imedreg_df = imedreg_df.groupby(['imediate_reg', 'imed_reg_code', 'epidemiological_week', 'week_last_day', 'state', 'region']).sum().reset_index()\n",
    "indicators_state_city(imedreg_df)\n",
    "imedreg_df"
   ]
  },
  {
   "cell_type": "code",
   "execution_count": null,
   "metadata": {},
   "outputs": [],
   "source": []
  },
  {
   "cell_type": "markdown",
   "metadata": {},
   "source": [
    "## Guardando dados no banco de dados local "
   ]
  },
  {
   "cell_type": "code",
   "execution_count": 215,
   "metadata": {},
   "outputs": [],
   "source": [
    "#Remove o BD caso ele já exista\n",
    "import os\n",
    "os.remove (\"resultados/indicadores.db\") if os.path.exists (\"database/indicadores.db\") else None"
   ]
  },
  {
   "cell_type": "code",
   "execution_count": 216,
   "metadata": {},
   "outputs": [],
   "source": [
    "#Importa a biblioteca do sqlite, cria a conexão e o ponteiro\n",
    "import sqlite3\n",
    "con = sqlite3.connect(\"resultados/indicadores.db\")  ##OBS: se o BD não existir, ele é criado automaticamente\n",
    "cur = con.cursor()"
   ]
  },
  {
   "cell_type": "code",
   "execution_count": 217,
   "metadata": {},
   "outputs": [],
   "source": [
    "#Guarda os dataframes no BD (se a taela já existir, substitui)\n",
    "imedreg_df.to_sql('imedreg_df', con, if_exists='replace', index=False)\n",
    "cities_df.to_sql('cities_df', con, if_exists='replace', index=False)\n",
    "states_df.to_sql('states_df', con, if_exists='replace', index=False)\n",
    "regions_df.to_sql('regions_df', con, if_exists='replace', index=False)\n",
    "brazil_df.to_sql('brazil_df', con, if_exists='replace', index=False)"
   ]
  },
  {
   "cell_type": "markdown",
   "metadata": {},
   "source": [
    "## Leitura e consulta do BD\n",
    "- OBS: A partir daqui o código já pode ser incorporado ao notebook de visualização, já que os dados já estão salvos no BD. Se esse for o caso, tire do comentário a próxima célula."
   ]
  },
  {
   "cell_type": "code",
   "execution_count": 218,
   "metadata": {},
   "outputs": [],
   "source": [
    "#Importa a biblioteca do sqlite, cria a conexão e o ponteiro\n",
    "#import sqlite3\n",
    "#con = sqlite3.connect(\"resultados/indicadores.db\")  ##OBS: se o BD não existir, ele é criado automaticamente\n",
    "#cur = con.cursor()"
   ]
  },
  {
   "cell_type": "markdown",
   "metadata": {},
   "source": [
    "#### plotar gráficos a partir de Dataframes (mais fácil)"
   ]
  },
  {
   "cell_type": "code",
   "execution_count": 219,
   "metadata": {},
   "outputs": [],
   "source": [
    "##Lendo tabelas do BD direto para DataFrames (pode ser usado para gerar gráficos a partir dos DFs)\n",
    "cities_df = pd.read_sql('select * from cities_df', con)\n",
    "states_df = pd.read_sql('select * from states_df', con)\n",
    "regions_df = pd.read_sql('select * from regions_df', con)\n",
    "brazil_df = pd.read_sql('select * from brazil_df', con)\n",
    "\n",
    "##PLOTAR AQUI"
   ]
  },
  {
   "cell_type": "markdown",
   "metadata": {},
   "source": [
    "#### plotar gráficos diretamente do BD (mais rápido)"
   ]
  },
  {
   "cell_type": "code",
   "execution_count": 220,
   "metadata": {},
   "outputs": [
    {
     "output_type": "display_data",
     "data": {
      "text/plain": "<Figure size 432x288 with 1 Axes>",
      "image/svg+xml": "<?xml version=\"1.0\" encoding=\"utf-8\" standalone=\"no\"?>\r\n<!DOCTYPE svg PUBLIC \"-//W3C//DTD SVG 1.1//EN\"\r\n  \"http://www.w3.org/Graphics/SVG/1.1/DTD/svg11.dtd\">\r\n<!-- Created with matplotlib (https://matplotlib.org/) -->\r\n<svg height=\"248.553177pt\" version=\"1.1\" viewBox=\"0 0 394.375 248.553177\" width=\"394.375pt\" xmlns=\"http://www.w3.org/2000/svg\" xmlns:xlink=\"http://www.w3.org/1999/xlink\">\r\n <defs>\r\n  <style type=\"text/css\">\r\n*{stroke-linecap:butt;stroke-linejoin:round;}\r\n  </style>\r\n </defs>\r\n <g id=\"figure_1\">\r\n  <g id=\"patch_1\">\r\n   <path d=\"M 0 248.553177 \r\nL 394.375 248.553177 \r\nL 394.375 0 \r\nL 0 0 \r\nz\r\n\" style=\"fill:none;\"/>\r\n  </g>\r\n  <g id=\"axes_1\">\r\n   <g id=\"patch_2\">\r\n    <path d=\"M 52.375 224.675052 \r\nL 387.175 224.675052 \r\nL 387.175 7.235052 \r\nL 52.375 7.235052 \r\nz\r\n\" style=\"fill:#ffffff;\"/>\r\n   </g>\r\n   <g id=\"patch_3\">\r\n    <path clip-path=\"url(#p9fdc14f65d)\" d=\"M 67.593182 224.675052 \r\nL 118.320455 224.675052 \r\nL 118.320455 224.673271 \r\nL 67.593182 224.673271 \r\nz\r\n\" style=\"fill:#1f77b4;\"/>\r\n   </g>\r\n   <g id=\"patch_4\">\r\n    <path clip-path=\"url(#p9fdc14f65d)\" d=\"M 67.593182 224.675052 \r\nL 118.320455 224.675052 \r\nL 118.320455 224.651904 \r\nL 67.593182 224.651904 \r\nz\r\n\" style=\"fill:#1f77b4;\"/>\r\n   </g>\r\n   <g id=\"patch_5\">\r\n    <path clip-path=\"url(#p9fdc14f65d)\" d=\"M 67.593182 224.675052 \r\nL 118.320455 224.675052 \r\nL 118.320455 224.44357 \r\nL 67.593182 224.44357 \r\nz\r\n\" style=\"fill:#1f77b4;\"/>\r\n   </g>\r\n   <g id=\"patch_6\">\r\n    <path clip-path=\"url(#p9fdc14f65d)\" d=\"M 67.593182 224.675052 \r\nL 118.320455 224.675052 \r\nL 118.320455 224.293997 \r\nL 67.593182 224.293997 \r\nz\r\n\" style=\"fill:#1f77b4;\"/>\r\n   </g>\r\n   <g id=\"patch_7\">\r\n    <path clip-path=\"url(#p9fdc14f65d)\" d=\"M 67.593182 224.675052 \r\nL 118.320455 224.675052 \r\nL 118.320455 224.099908 \r\nL 67.593182 224.099908 \r\nz\r\n\" style=\"fill:#1f77b4;\"/>\r\n   </g>\r\n   <g id=\"patch_8\">\r\n    <path clip-path=\"url(#p9fdc14f65d)\" d=\"M 67.593182 224.675052 \r\nL 118.320455 224.675052 \r\nL 118.320455 224.067856 \r\nL 67.593182 224.067856 \r\nz\r\n\" style=\"fill:#1f77b4;\"/>\r\n   </g>\r\n   <g id=\"patch_9\">\r\n    <path clip-path=\"url(#p9fdc14f65d)\" d=\"M 67.593182 224.675052 \r\nL 118.320455 224.675052 \r\nL 118.320455 223.813226 \r\nL 67.593182 223.813226 \r\nz\r\n\" style=\"fill:#1f77b4;\"/>\r\n   </g>\r\n   <g id=\"patch_10\">\r\n    <path clip-path=\"url(#p9fdc14f65d)\" d=\"M 67.593182 224.675052 \r\nL 118.320455 224.675052 \r\nL 118.320455 223.815007 \r\nL 67.593182 223.815007 \r\nz\r\n\" style=\"fill:#1f77b4;\"/>\r\n   </g>\r\n   <g id=\"patch_11\">\r\n    <path clip-path=\"url(#p9fdc14f65d)\" d=\"M 67.593182 224.675052 \r\nL 118.320455 224.675052 \r\nL 118.320455 222.823195 \r\nL 67.593182 222.823195 \r\nz\r\n\" style=\"fill:#1f77b4;\"/>\r\n   </g>\r\n   <g id=\"patch_12\">\r\n    <path clip-path=\"url(#p9fdc14f65d)\" d=\"M 67.593182 224.675052 \r\nL 118.320455 224.675052 \r\nL 118.320455 222.068207 \r\nL 67.593182 222.068207 \r\nz\r\n\" style=\"fill:#1f77b4;\"/>\r\n   </g>\r\n   <g id=\"patch_13\">\r\n    <path clip-path=\"url(#p9fdc14f65d)\" d=\"M 67.593182 224.675052 \r\nL 118.320455 224.675052 \r\nL 118.320455 219.931448 \r\nL 67.593182 219.931448 \r\nz\r\n\" style=\"fill:#1f77b4;\"/>\r\n   </g>\r\n   <g id=\"patch_14\">\r\n    <path clip-path=\"url(#p9fdc14f65d)\" d=\"M 67.593182 224.675052 \r\nL 118.320455 224.675052 \r\nL 118.320455 218.003024 \r\nL 67.593182 218.003024 \r\nz\r\n\" style=\"fill:#1f77b4;\"/>\r\n   </g>\r\n   <g id=\"patch_15\">\r\n    <path clip-path=\"url(#p9fdc14f65d)\" d=\"M 67.593182 224.675052 \r\nL 118.320455 224.675052 \r\nL 118.320455 213.847029 \r\nL 67.593182 213.847029 \r\nz\r\n\" style=\"fill:#1f77b4;\"/>\r\n   </g>\r\n   <g id=\"patch_16\">\r\n    <path clip-path=\"url(#p9fdc14f65d)\" d=\"M 67.593182 224.675052 \r\nL 118.320455 224.675052 \r\nL 118.320455 205.665025 \r\nL 67.593182 205.665025 \r\nz\r\n\" style=\"fill:#1f77b4;\"/>\r\n   </g>\r\n   <g id=\"patch_17\">\r\n    <path clip-path=\"url(#p9fdc14f65d)\" d=\"M 67.593182 224.675052 \r\nL 118.320455 224.675052 \r\nL 118.320455 204.356261 \r\nL 67.593182 204.356261 \r\nz\r\n\" style=\"fill:#1f77b4;\"/>\r\n   </g>\r\n   <g id=\"patch_18\">\r\n    <path clip-path=\"url(#p9fdc14f65d)\" d=\"M 67.593182 224.675052 \r\nL 118.320455 224.675052 \r\nL 118.320455 183.515745 \r\nL 67.593182 183.515745 \r\nz\r\n\" style=\"fill:#1f77b4;\"/>\r\n   </g>\r\n   <g id=\"patch_19\">\r\n    <path clip-path=\"url(#p9fdc14f65d)\" d=\"M 67.593182 224.675052 \r\nL 118.320455 224.675052 \r\nL 118.320455 181.763603 \r\nL 67.593182 181.763603 \r\nz\r\n\" style=\"fill:#1f77b4;\"/>\r\n   </g>\r\n   <g id=\"patch_20\">\r\n    <path clip-path=\"url(#p9fdc14f65d)\" d=\"M 67.593182 224.675052 \r\nL 118.320455 224.675052 \r\nL 118.320455 174.065931 \r\nL 67.593182 174.065931 \r\nz\r\n\" style=\"fill:#1f77b4;\"/>\r\n   </g>\r\n   <g id=\"patch_21\">\r\n    <path clip-path=\"url(#p9fdc14f65d)\" d=\"M 67.593182 224.675052 \r\nL 118.320455 224.675052 \r\nL 118.320455 168.239703 \r\nL 67.593182 168.239703 \r\nz\r\n\" style=\"fill:#1f77b4;\"/>\r\n   </g>\r\n   <g id=\"patch_22\">\r\n    <path clip-path=\"url(#p9fdc14f65d)\" d=\"M 67.593182 224.675052 \r\nL 118.320455 224.675052 \r\nL 118.320455 180.697004 \r\nL 67.593182 180.697004 \r\nz\r\n\" style=\"fill:#1f77b4;\"/>\r\n   </g>\r\n   <g id=\"patch_23\">\r\n    <path clip-path=\"url(#p9fdc14f65d)\" d=\"M 67.593182 224.675052 \r\nL 118.320455 224.675052 \r\nL 118.320455 147.358232 \r\nL 67.593182 147.358232 \r\nz\r\n\" style=\"fill:#1f77b4;\"/>\r\n   </g>\r\n   <g id=\"patch_24\">\r\n    <path clip-path=\"url(#p9fdc14f65d)\" d=\"M 67.593182 224.675052 \r\nL 118.320455 224.675052 \r\nL 118.320455 149.220773 \r\nL 67.593182 149.220773 \r\nz\r\n\" style=\"fill:#1f77b4;\"/>\r\n   </g>\r\n   <g id=\"patch_25\">\r\n    <path clip-path=\"url(#p9fdc14f65d)\" d=\"M 67.593182 224.675052 \r\nL 118.320455 224.675052 \r\nL 118.320455 145.310506 \r\nL 67.593182 145.310506 \r\nz\r\n\" style=\"fill:#1f77b4;\"/>\r\n   </g>\r\n   <g id=\"patch_26\">\r\n    <path clip-path=\"url(#p9fdc14f65d)\" d=\"M 67.593182 224.675052 \r\nL 118.320455 224.675052 \r\nL 118.320455 145.501033 \r\nL 67.593182 145.501033 \r\nz\r\n\" style=\"fill:#1f77b4;\"/>\r\n   </g>\r\n   <g id=\"patch_27\">\r\n    <path clip-path=\"url(#p9fdc14f65d)\" d=\"M 67.593182 224.675052 \r\nL 118.320455 224.675052 \r\nL 118.320455 151.275623 \r\nL 67.593182 151.275623 \r\nz\r\n\" style=\"fill:#1f77b4;\"/>\r\n   </g>\r\n   <g id=\"patch_28\">\r\n    <path clip-path=\"url(#p9fdc14f65d)\" d=\"M 67.593182 224.675052 \r\nL 118.320455 224.675052 \r\nL 118.320455 149.731815 \r\nL 67.593182 149.731815 \r\nz\r\n\" style=\"fill:#1f77b4;\"/>\r\n   </g>\r\n   <g id=\"patch_29\">\r\n    <path clip-path=\"url(#p9fdc14f65d)\" d=\"M 67.593182 224.675052 \r\nL 118.320455 224.675052 \r\nL 118.320455 156.069084 \r\nL 67.593182 156.069084 \r\nz\r\n\" style=\"fill:#1f77b4;\"/>\r\n   </g>\r\n   <g id=\"patch_30\">\r\n    <path clip-path=\"url(#p9fdc14f65d)\" d=\"M 67.593182 224.675052 \r\nL 118.320455 224.675052 \r\nL 118.320455 162.189116 \r\nL 67.593182 162.189116 \r\nz\r\n\" style=\"fill:#1f77b4;\"/>\r\n   </g>\r\n   <g id=\"patch_31\">\r\n    <path clip-path=\"url(#p9fdc14f65d)\" d=\"M 67.593182 224.675052 \r\nL 118.320455 224.675052 \r\nL 118.320455 152.771353 \r\nL 67.593182 152.771353 \r\nz\r\n\" style=\"fill:#1f77b4;\"/>\r\n   </g>\r\n   <g id=\"patch_32\">\r\n    <path clip-path=\"url(#p9fdc14f65d)\" d=\"M 131.002273 224.675052 \r\nL 181.729545 224.675052 \r\nL 181.729545 224.671491 \r\nL 131.002273 224.671491 \r\nz\r\n\" style=\"fill:#1f77b4;\"/>\r\n   </g>\r\n   <g id=\"patch_33\">\r\n    <path clip-path=\"url(#p9fdc14f65d)\" d=\"M 131.002273 224.675052 \r\nL 181.729545 224.675052 \r\nL 181.729545 224.648342 \r\nL 131.002273 224.648342 \r\nz\r\n\" style=\"fill:#1f77b4;\"/>\r\n   </g>\r\n   <g id=\"patch_34\">\r\n    <path clip-path=\"url(#p9fdc14f65d)\" d=\"M 131.002273 224.675052 \r\nL 181.729545 224.675052 \r\nL 181.729545 224.365222 \r\nL 131.002273 224.365222 \r\nz\r\n\" style=\"fill:#1f77b4;\"/>\r\n   </g>\r\n   <g id=\"patch_35\">\r\n    <path clip-path=\"url(#p9fdc14f65d)\" d=\"M 131.002273 224.675052 \r\nL 181.729545 224.675052 \r\nL 181.729545 223.848839 \r\nL 131.002273 223.848839 \r\nz\r\n\" style=\"fill:#1f77b4;\"/>\r\n   </g>\r\n   <g id=\"patch_36\">\r\n    <path clip-path=\"url(#p9fdc14f65d)\" d=\"M 131.002273 224.675052 \r\nL 181.729545 224.675052 \r\nL 181.729545 222.849904 \r\nL 131.002273 222.849904 \r\nz\r\n\" style=\"fill:#1f77b4;\"/>\r\n   </g>\r\n   <g id=\"patch_37\">\r\n    <path clip-path=\"url(#p9fdc14f65d)\" d=\"M 131.002273 224.675052 \r\nL 181.729545 224.675052 \r\nL 181.729545 220.458515 \r\nL 131.002273 220.458515 \r\nz\r\n\" style=\"fill:#1f77b4;\"/>\r\n   </g>\r\n   <g id=\"patch_38\">\r\n    <path clip-path=\"url(#p9fdc14f65d)\" d=\"M 131.002273 224.675052 \r\nL 181.729545 224.675052 \r\nL 181.729545 216.206366 \r\nL 131.002273 216.206366 \r\nz\r\n\" style=\"fill:#1f77b4;\"/>\r\n   </g>\r\n   <g id=\"patch_39\">\r\n    <path clip-path=\"url(#p9fdc14f65d)\" d=\"M 131.002273 224.675052 \r\nL 181.729545 224.675052 \r\nL 181.729545 210.396164 \r\nL 131.002273 210.396164 \r\nz\r\n\" style=\"fill:#1f77b4;\"/>\r\n   </g>\r\n   <g id=\"patch_40\">\r\n    <path clip-path=\"url(#p9fdc14f65d)\" d=\"M 131.002273 224.675052 \r\nL 181.729545 224.675052 \r\nL 181.729545 202.842724 \r\nL 131.002273 202.842724 \r\nz\r\n\" style=\"fill:#1f77b4;\"/>\r\n   </g>\r\n   <g id=\"patch_41\">\r\n    <path clip-path=\"url(#p9fdc14f65d)\" d=\"M 131.002273 224.675052 \r\nL 181.729545 224.675052 \r\nL 181.729545 187.016467 \r\nL 131.002273 187.016467 \r\nz\r\n\" style=\"fill:#1f77b4;\"/>\r\n   </g>\r\n   <g id=\"patch_42\">\r\n    <path clip-path=\"url(#p9fdc14f65d)\" d=\"M 131.002273 224.675052 \r\nL 181.729545 224.675052 \r\nL 181.729545 173.209447 \r\nL 131.002273 173.209447 \r\nz\r\n\" style=\"fill:#1f77b4;\"/>\r\n   </g>\r\n   <g id=\"patch_43\">\r\n    <path clip-path=\"url(#p9fdc14f65d)\" d=\"M 131.002273 224.675052 \r\nL 181.729545 224.675052 \r\nL 181.729545 147.714359 \r\nL 131.002273 147.714359 \r\nz\r\n\" style=\"fill:#1f77b4;\"/>\r\n   </g>\r\n   <g id=\"patch_44\">\r\n    <path clip-path=\"url(#p9fdc14f65d)\" d=\"M 131.002273 224.675052 \r\nL 181.729545 224.675052 \r\nL 181.729545 131.405551 \r\nL 131.002273 131.405551 \r\nz\r\n\" style=\"fill:#1f77b4;\"/>\r\n   </g>\r\n   <g id=\"patch_45\">\r\n    <path clip-path=\"url(#p9fdc14f65d)\" d=\"M 131.002273 224.675052 \r\nL 181.729545 224.675052 \r\nL 181.729545 111.263042 \r\nL 131.002273 111.263042 \r\nz\r\n\" style=\"fill:#1f77b4;\"/>\r\n   </g>\r\n   <g id=\"patch_46\">\r\n    <path clip-path=\"url(#p9fdc14f65d)\" d=\"M 131.002273 224.675052 \r\nL 181.729545 224.675052 \r\nL 181.729545 112.764115 \r\nL 131.002273 112.764115 \r\nz\r\n\" style=\"fill:#1f77b4;\"/>\r\n   </g>\r\n   <g id=\"patch_47\">\r\n    <path clip-path=\"url(#p9fdc14f65d)\" d=\"M 131.002273 224.675052 \r\nL 181.729545 224.675052 \r\nL 181.729545 93.912565 \r\nL 131.002273 93.912565 \r\nz\r\n\" style=\"fill:#1f77b4;\"/>\r\n   </g>\r\n   <g id=\"patch_48\">\r\n    <path clip-path=\"url(#p9fdc14f65d)\" d=\"M 131.002273 224.675052 \r\nL 181.729545 224.675052 \r\nL 181.729545 86.962758 \r\nL 131.002273 86.962758 \r\nz\r\n\" style=\"fill:#1f77b4;\"/>\r\n   </g>\r\n   <g id=\"patch_49\">\r\n    <path clip-path=\"url(#p9fdc14f65d)\" d=\"M 131.002273 224.675052 \r\nL 181.729545 224.675052 \r\nL 181.729545 65.386841 \r\nL 131.002273 65.386841 \r\nz\r\n\" style=\"fill:#1f77b4;\"/>\r\n   </g>\r\n   <g id=\"patch_50\">\r\n    <path clip-path=\"url(#p9fdc14f65d)\" d=\"M 131.002273 224.675052 \r\nL 181.729545 224.675052 \r\nL 181.729545 78.784316 \r\nL 131.002273 78.784316 \r\nz\r\n\" style=\"fill:#1f77b4;\"/>\r\n   </g>\r\n   <g id=\"patch_51\">\r\n    <path clip-path=\"url(#p9fdc14f65d)\" d=\"M 131.002273 224.675052 \r\nL 181.729545 224.675052 \r\nL 181.729545 98.146907 \r\nL 131.002273 98.146907 \r\nz\r\n\" style=\"fill:#1f77b4;\"/>\r\n   </g>\r\n   <g id=\"patch_52\">\r\n    <path clip-path=\"url(#p9fdc14f65d)\" d=\"M 131.002273 224.675052 \r\nL 181.729545 224.675052 \r\nL 181.729545 64.562408 \r\nL 131.002273 64.562408 \r\nz\r\n\" style=\"fill:#1f77b4;\"/>\r\n   </g>\r\n   <g id=\"patch_53\">\r\n    <path clip-path=\"url(#p9fdc14f65d)\" d=\"M 131.002273 224.675052 \r\nL 181.729545 224.675052 \r\nL 181.729545 67.331291 \r\nL 131.002273 67.331291 \r\nz\r\n\" style=\"fill:#1f77b4;\"/>\r\n   </g>\r\n   <g id=\"patch_54\">\r\n    <path clip-path=\"url(#p9fdc14f65d)\" d=\"M 131.002273 224.675052 \r\nL 181.729545 224.675052 \r\nL 181.729545 87.691037 \r\nL 131.002273 87.691037 \r\nz\r\n\" style=\"fill:#1f77b4;\"/>\r\n   </g>\r\n   <g id=\"patch_55\">\r\n    <path clip-path=\"url(#p9fdc14f65d)\" d=\"M 131.002273 224.675052 \r\nL 181.729545 224.675052 \r\nL 181.729545 101.092073 \r\nL 131.002273 101.092073 \r\nz\r\n\" style=\"fill:#1f77b4;\"/>\r\n   </g>\r\n   <g id=\"patch_56\">\r\n    <path clip-path=\"url(#p9fdc14f65d)\" d=\"M 131.002273 224.675052 \r\nL 181.729545 224.675052 \r\nL 181.729545 117.659072 \r\nL 131.002273 117.659072 \r\nz\r\n\" style=\"fill:#1f77b4;\"/>\r\n   </g>\r\n   <g id=\"patch_57\">\r\n    <path clip-path=\"url(#p9fdc14f65d)\" d=\"M 131.002273 224.675052 \r\nL 181.729545 224.675052 \r\nL 181.729545 117.628801 \r\nL 131.002273 117.628801 \r\nz\r\n\" style=\"fill:#1f77b4;\"/>\r\n   </g>\r\n   <g id=\"patch_58\">\r\n    <path clip-path=\"url(#p9fdc14f65d)\" d=\"M 131.002273 224.675052 \r\nL 181.729545 224.675052 \r\nL 181.729545 131.425138 \r\nL 131.002273 131.425138 \r\nz\r\n\" style=\"fill:#1f77b4;\"/>\r\n   </g>\r\n   <g id=\"patch_59\">\r\n    <path clip-path=\"url(#p9fdc14f65d)\" d=\"M 131.002273 224.675052 \r\nL 181.729545 224.675052 \r\nL 181.729545 158.180913 \r\nL 131.002273 158.180913 \r\nz\r\n\" style=\"fill:#1f77b4;\"/>\r\n   </g>\r\n   <g id=\"patch_60\">\r\n    <path clip-path=\"url(#p9fdc14f65d)\" d=\"M 131.002273 224.675052 \r\nL 181.729545 224.675052 \r\nL 181.729545 151.645994 \r\nL 131.002273 151.645994 \r\nz\r\n\" style=\"fill:#1f77b4;\"/>\r\n   </g>\r\n   <g id=\"patch_61\">\r\n    <path clip-path=\"url(#p9fdc14f65d)\" d=\"M 194.411364 224.675052 \r\nL 245.138636 224.675052 \r\nL 245.138636 224.671491 \r\nL 194.411364 224.671491 \r\nz\r\n\" style=\"fill:#1f77b4;\"/>\r\n   </g>\r\n   <g id=\"patch_62\">\r\n    <path clip-path=\"url(#p9fdc14f65d)\" d=\"M 194.411364 224.675052 \r\nL 245.138636 224.675052 \r\nL 245.138636 224.621633 \r\nL 194.411364 224.621633 \r\nz\r\n\" style=\"fill:#1f77b4;\"/>\r\n   </g>\r\n   <g id=\"patch_63\">\r\n    <path clip-path=\"url(#p9fdc14f65d)\" d=\"M 194.411364 224.675052 \r\nL 245.138636 224.675052 \r\nL 245.138636 224.395493 \r\nL 194.411364 224.395493 \r\nz\r\n\" style=\"fill:#1f77b4;\"/>\r\n   </g>\r\n   <g id=\"patch_64\">\r\n    <path clip-path=\"url(#p9fdc14f65d)\" d=\"M 194.411364 224.675052 \r\nL 245.138636 224.675052 \r\nL 245.138636 224.055392 \r\nL 194.411364 224.055392 \r\nz\r\n\" style=\"fill:#1f77b4;\"/>\r\n   </g>\r\n   <g id=\"patch_65\">\r\n    <path clip-path=\"url(#p9fdc14f65d)\" d=\"M 194.411364 224.675052 \r\nL 245.138636 224.675052 \r\nL 245.138636 222.623764 \r\nL 194.411364 222.623764 \r\nz\r\n\" style=\"fill:#1f77b4;\"/>\r\n   </g>\r\n   <g id=\"patch_66\">\r\n    <path clip-path=\"url(#p9fdc14f65d)\" d=\"M 194.411364 224.675052 \r\nL 245.138636 224.675052 \r\nL 245.138636 221.516211 \r\nL 194.411364 221.516211 \r\nz\r\n\" style=\"fill:#1f77b4;\"/>\r\n   </g>\r\n   <g id=\"patch_67\">\r\n    <path clip-path=\"url(#p9fdc14f65d)\" d=\"M 194.411364 224.675052 \r\nL 245.138636 224.675052 \r\nL 245.138636 218.173965 \r\nL 194.411364 218.173965 \r\nz\r\n\" style=\"fill:#1f77b4;\"/>\r\n   </g>\r\n   <g id=\"patch_68\">\r\n    <path clip-path=\"url(#p9fdc14f65d)\" d=\"M 194.411364 224.675052 \r\nL 245.138636 224.675052 \r\nL 245.138636 214.286845 \r\nL 194.411364 214.286845 \r\nz\r\n\" style=\"fill:#1f77b4;\"/>\r\n   </g>\r\n   <g id=\"patch_69\">\r\n    <path clip-path=\"url(#p9fdc14f65d)\" d=\"M 194.411364 224.675052 \r\nL 245.138636 224.675052 \r\nL 245.138636 201.569572 \r\nL 194.411364 201.569572 \r\nz\r\n\" style=\"fill:#1f77b4;\"/>\r\n   </g>\r\n   <g id=\"patch_70\">\r\n    <path clip-path=\"url(#p9fdc14f65d)\" d=\"M 194.411364 224.675052 \r\nL 245.138636 224.675052 \r\nL 245.138636 192.94241 \r\nL 194.411364 192.94241 \r\nz\r\n\" style=\"fill:#1f77b4;\"/>\r\n   </g>\r\n   <g id=\"patch_71\">\r\n    <path clip-path=\"url(#p9fdc14f65d)\" d=\"M 194.411364 224.675052 \r\nL 245.138636 224.675052 \r\nL 245.138636 177.16423 \r\nL 194.411364 177.16423 \r\nz\r\n\" style=\"fill:#1f77b4;\"/>\r\n   </g>\r\n   <g id=\"patch_72\">\r\n    <path clip-path=\"url(#p9fdc14f65d)\" d=\"M 194.411364 224.675052 \r\nL 245.138636 224.675052 \r\nL 245.138636 161.32907 \r\nL 194.411364 161.32907 \r\nz\r\n\" style=\"fill:#1f77b4;\"/>\r\n   </g>\r\n   <g id=\"patch_73\">\r\n    <path clip-path=\"url(#p9fdc14f65d)\" d=\"M 194.411364 224.675052 \r\nL 245.138636 224.675052 \r\nL 245.138636 160.901719 \r\nL 194.411364 160.901719 \r\nz\r\n\" style=\"fill:#1f77b4;\"/>\r\n   </g>\r\n   <g id=\"patch_74\">\r\n    <path clip-path=\"url(#p9fdc14f65d)\" d=\"M 194.411364 224.675052 \r\nL 245.138636 224.675052 \r\nL 245.138636 164.133566 \r\nL 194.411364 164.133566 \r\nz\r\n\" style=\"fill:#1f77b4;\"/>\r\n   </g>\r\n   <g id=\"patch_75\">\r\n    <path clip-path=\"url(#p9fdc14f65d)\" d=\"M 194.411364 224.675052 \r\nL 245.138636 224.675052 \r\nL 245.138636 161.143885 \r\nL 194.411364 161.143885 \r\nz\r\n\" style=\"fill:#1f77b4;\"/>\r\n   </g>\r\n   <g id=\"patch_76\">\r\n    <path clip-path=\"url(#p9fdc14f65d)\" d=\"M 194.411364 224.675052 \r\nL 245.138636 224.675052 \r\nL 245.138636 147.952963 \r\nL 194.411364 147.952963 \r\nz\r\n\" style=\"fill:#1f77b4;\"/>\r\n   </g>\r\n   <g id=\"patch_77\">\r\n    <path clip-path=\"url(#p9fdc14f65d)\" d=\"M 194.411364 224.675052 \r\nL 245.138636 224.675052 \r\nL 245.138636 165.235777 \r\nL 194.411364 165.235777 \r\nz\r\n\" style=\"fill:#1f77b4;\"/>\r\n   </g>\r\n   <g id=\"patch_78\">\r\n    <path clip-path=\"url(#p9fdc14f65d)\" d=\"M 194.411364 224.675052 \r\nL 245.138636 224.675052 \r\nL 245.138636 167.352948 \r\nL 194.411364 167.352948 \r\nz\r\n\" style=\"fill:#1f77b4;\"/>\r\n   </g>\r\n   <g id=\"patch_79\">\r\n    <path clip-path=\"url(#p9fdc14f65d)\" d=\"M 194.411364 224.675052 \r\nL 245.138636 224.675052 \r\nL 245.138636 169.464778 \r\nL 194.411364 169.464778 \r\nz\r\n\" style=\"fill:#1f77b4;\"/>\r\n   </g>\r\n   <g id=\"patch_80\">\r\n    <path clip-path=\"url(#p9fdc14f65d)\" d=\"M 194.411364 224.675052 \r\nL 245.138636 224.675052 \r\nL 245.138636 163.451584 \r\nL 194.411364 163.451584 \r\nz\r\n\" style=\"fill:#1f77b4;\"/>\r\n   </g>\r\n   <g id=\"patch_81\">\r\n    <path clip-path=\"url(#p9fdc14f65d)\" d=\"M 194.411364 224.675052 \r\nL 245.138636 224.675052 \r\nL 245.138636 174.584095 \r\nL 194.411364 174.584095 \r\nz\r\n\" style=\"fill:#1f77b4;\"/>\r\n   </g>\r\n   <g id=\"patch_82\">\r\n    <path clip-path=\"url(#p9fdc14f65d)\" d=\"M 194.411364 224.675052 \r\nL 245.138636 224.675052 \r\nL 245.138636 167.789203 \r\nL 194.411364 167.789203 \r\nz\r\n\" style=\"fill:#1f77b4;\"/>\r\n   </g>\r\n   <g id=\"patch_83\">\r\n    <path clip-path=\"url(#p9fdc14f65d)\" d=\"M 194.411364 224.675052 \r\nL 245.138636 224.675052 \r\nL 245.138636 171.615781 \r\nL 194.411364 171.615781 \r\nz\r\n\" style=\"fill:#1f77b4;\"/>\r\n   </g>\r\n   <g id=\"patch_84\">\r\n    <path clip-path=\"url(#p9fdc14f65d)\" d=\"M 194.411364 224.675052 \r\nL 245.138636 224.675052 \r\nL 245.138636 170.803813 \r\nL 194.411364 170.803813 \r\nz\r\n\" style=\"fill:#1f77b4;\"/>\r\n   </g>\r\n   <g id=\"patch_85\">\r\n    <path clip-path=\"url(#p9fdc14f65d)\" d=\"M 194.411364 224.675052 \r\nL 245.138636 224.675052 \r\nL 245.138636 172.919204 \r\nL 194.411364 172.919204 \r\nz\r\n\" style=\"fill:#1f77b4;\"/>\r\n   </g>\r\n   <g id=\"patch_86\">\r\n    <path clip-path=\"url(#p9fdc14f65d)\" d=\"M 194.411364 224.675052 \r\nL 245.138636 224.675052 \r\nL 245.138636 179.753269 \r\nL 194.411364 179.753269 \r\nz\r\n\" style=\"fill:#1f77b4;\"/>\r\n   </g>\r\n   <g id=\"patch_87\">\r\n    <path clip-path=\"url(#p9fdc14f65d)\" d=\"M 194.411364 224.675052 \r\nL 245.138636 224.675052 \r\nL 245.138636 189.338411 \r\nL 194.411364 189.338411 \r\nz\r\n\" style=\"fill:#1f77b4;\"/>\r\n   </g>\r\n   <g id=\"patch_88\">\r\n    <path clip-path=\"url(#p9fdc14f65d)\" d=\"M 194.411364 224.675052 \r\nL 245.138636 224.675052 \r\nL 245.138636 188.173878 \r\nL 194.411364 188.173878 \r\nz\r\n\" style=\"fill:#1f77b4;\"/>\r\n   </g>\r\n   <g id=\"patch_89\">\r\n    <path clip-path=\"url(#p9fdc14f65d)\" d=\"M 257.820455 224.675052 \r\nL 308.547727 224.675052 \r\nL 308.547727 224.671491 \r\nL 257.820455 224.671491 \r\nz\r\n\" style=\"fill:#1f77b4;\"/>\r\n   </g>\r\n   <g id=\"patch_90\">\r\n    <path clip-path=\"url(#p9fdc14f65d)\" d=\"M 257.820455 224.675052 \r\nL 308.547727 224.675052 \r\nL 308.547727 224.650123 \r\nL 257.820455 224.650123 \r\nz\r\n\" style=\"fill:#1f77b4;\"/>\r\n   </g>\r\n   <g id=\"patch_91\">\r\n    <path clip-path=\"url(#p9fdc14f65d)\" d=\"M 257.820455 224.675052 \r\nL 308.547727 224.675052 \r\nL 308.547727 224.546846 \r\nL 257.820455 224.546846 \r\nz\r\n\" style=\"fill:#1f77b4;\"/>\r\n   </g>\r\n   <g id=\"patch_92\">\r\n    <path clip-path=\"url(#p9fdc14f65d)\" d=\"M 257.820455 224.675052 \r\nL 308.547727 224.675052 \r\nL 308.547727 223.770491 \r\nL 257.820455 223.770491 \r\nz\r\n\" style=\"fill:#1f77b4;\"/>\r\n   </g>\r\n   <g id=\"patch_93\">\r\n    <path clip-path=\"url(#p9fdc14f65d)\" d=\"M 257.820455 224.675052 \r\nL 308.547727 224.675052 \r\nL 308.547727 221.765499 \r\nL 257.820455 221.765499 \r\nz\r\n\" style=\"fill:#1f77b4;\"/>\r\n   </g>\r\n   <g id=\"patch_94\">\r\n    <path clip-path=\"url(#p9fdc14f65d)\" d=\"M 257.820455 224.675052 \r\nL 308.547727 224.675052 \r\nL 308.547727 217.413635 \r\nL 257.820455 217.413635 \r\nz\r\n\" style=\"fill:#1f77b4;\"/>\r\n   </g>\r\n   <g id=\"patch_95\">\r\n    <path clip-path=\"url(#p9fdc14f65d)\" d=\"M 257.820455 224.675052 \r\nL 308.547727 224.675052 \r\nL 308.547727 214.256574 \r\nL 257.820455 214.256574 \r\nz\r\n\" style=\"fill:#1f77b4;\"/>\r\n   </g>\r\n   <g id=\"patch_96\">\r\n    <path clip-path=\"url(#p9fdc14f65d)\" d=\"M 257.820455 224.675052 \r\nL 308.547727 224.675052 \r\nL 308.547727 209.621589 \r\nL 257.820455 209.621589 \r\nz\r\n\" style=\"fill:#1f77b4;\"/>\r\n   </g>\r\n   <g id=\"patch_97\">\r\n    <path clip-path=\"url(#p9fdc14f65d)\" d=\"M 257.820455 224.675052 \r\nL 308.547727 224.675052 \r\nL 308.547727 207.917525 \r\nL 257.820455 207.917525 \r\nz\r\n\" style=\"fill:#1f77b4;\"/>\r\n   </g>\r\n   <g id=\"patch_98\">\r\n    <path clip-path=\"url(#p9fdc14f65d)\" d=\"M 257.820455 224.675052 \r\nL 308.547727 224.675052 \r\nL 308.547727 194.719481 \r\nL 257.820455 194.719481 \r\nz\r\n\" style=\"fill:#1f77b4;\"/>\r\n   </g>\r\n   <g id=\"patch_99\">\r\n    <path clip-path=\"url(#p9fdc14f65d)\" d=\"M 257.820455 224.675052 \r\nL 308.547727 224.675052 \r\nL 308.547727 185.451291 \r\nL 257.820455 185.451291 \r\nz\r\n\" style=\"fill:#1f77b4;\"/>\r\n   </g>\r\n   <g id=\"patch_100\">\r\n    <path clip-path=\"url(#p9fdc14f65d)\" d=\"M 257.820455 224.675052 \r\nL 308.547727 224.675052 \r\nL 308.547727 180.198427 \r\nL 257.820455 180.198427 \r\nz\r\n\" style=\"fill:#1f77b4;\"/>\r\n   </g>\r\n   <g id=\"patch_101\">\r\n    <path clip-path=\"url(#p9fdc14f65d)\" d=\"M 257.820455 224.675052 \r\nL 308.547727 224.675052 \r\nL 308.547727 157.912038 \r\nL 257.820455 157.912038 \r\nz\r\n\" style=\"fill:#1f77b4;\"/>\r\n   </g>\r\n   <g id=\"patch_102\">\r\n    <path clip-path=\"url(#p9fdc14f65d)\" d=\"M 257.820455 224.675052 \r\nL 308.547727 224.675052 \r\nL 308.547727 133.360685 \r\nL 257.820455 133.360685 \r\nz\r\n\" style=\"fill:#1f77b4;\"/>\r\n   </g>\r\n   <g id=\"patch_103\">\r\n    <path clip-path=\"url(#p9fdc14f65d)\" d=\"M 257.820455 224.675052 \r\nL 308.547727 224.675052 \r\nL 308.547727 124.350687 \r\nL 257.820455 124.350687 \r\nz\r\n\" style=\"fill:#1f77b4;\"/>\r\n   </g>\r\n   <g id=\"patch_104\">\r\n    <path clip-path=\"url(#p9fdc14f65d)\" d=\"M 257.820455 224.675052 \r\nL 308.547727 224.675052 \r\nL 308.547727 118.967837 \r\nL 257.820455 118.967837 \r\nz\r\n\" style=\"fill:#1f77b4;\"/>\r\n   </g>\r\n   <g id=\"patch_105\">\r\n    <path clip-path=\"url(#p9fdc14f65d)\" d=\"M 257.820455 224.675052 \r\nL 308.547727 224.675052 \r\nL 308.547727 91.952089 \r\nL 257.820455 91.952089 \r\nz\r\n\" style=\"fill:#1f77b4;\"/>\r\n   </g>\r\n   <g id=\"patch_106\">\r\n    <path clip-path=\"url(#p9fdc14f65d)\" d=\"M 257.820455 224.675052 \r\nL 308.547727 224.675052 \r\nL 308.547727 74.872267 \r\nL 257.820455 74.872267 \r\nz\r\n\" style=\"fill:#1f77b4;\"/>\r\n   </g>\r\n   <g id=\"patch_107\">\r\n    <path clip-path=\"url(#p9fdc14f65d)\" d=\"M 257.820455 224.675052 \r\nL 308.547727 224.675052 \r\nL 308.547727 73.787862 \r\nL 257.820455 73.787862 \r\nz\r\n\" style=\"fill:#1f77b4;\"/>\r\n   </g>\r\n   <g id=\"patch_108\">\r\n    <path clip-path=\"url(#p9fdc14f65d)\" d=\"M 257.820455 224.675052 \r\nL 308.547727 224.675052 \r\nL 308.547727 62.582345 \r\nL 257.820455 62.582345 \r\nz\r\n\" style=\"fill:#1f77b4;\"/>\r\n   </g>\r\n   <g id=\"patch_109\">\r\n    <path clip-path=\"url(#p9fdc14f65d)\" d=\"M 257.820455 224.675052 \r\nL 308.547727 224.675052 \r\nL 308.547727 90.251585 \r\nL 257.820455 90.251585 \r\nz\r\n\" style=\"fill:#1f77b4;\"/>\r\n   </g>\r\n   <g id=\"patch_110\">\r\n    <path clip-path=\"url(#p9fdc14f65d)\" d=\"M 257.820455 224.675052 \r\nL 308.547727 224.675052 \r\nL 308.547727 21.323323 \r\nL 257.820455 21.323323 \r\nz\r\n\" style=\"fill:#1f77b4;\"/>\r\n   </g>\r\n   <g id=\"patch_111\">\r\n    <path clip-path=\"url(#p9fdc14f65d)\" d=\"M 257.820455 224.675052 \r\nL 308.547727 224.675052 \r\nL 308.547727 27.265292 \r\nL 257.820455 27.265292 \r\nz\r\n\" style=\"fill:#1f77b4;\"/>\r\n   </g>\r\n   <g id=\"patch_112\">\r\n    <path clip-path=\"url(#p9fdc14f65d)\" d=\"M 257.820455 224.675052 \r\nL 308.547727 224.675052 \r\nL 308.547727 30.95298 \r\nL 257.820455 30.95298 \r\nz\r\n\" style=\"fill:#1f77b4;\"/>\r\n   </g>\r\n   <g id=\"patch_113\">\r\n    <path clip-path=\"url(#p9fdc14f65d)\" d=\"M 257.820455 224.675052 \r\nL 308.547727 224.675052 \r\nL 308.547727 17.589338 \r\nL 257.820455 17.589338 \r\nz\r\n\" style=\"fill:#1f77b4;\"/>\r\n   </g>\r\n   <g id=\"patch_114\">\r\n    <path clip-path=\"url(#p9fdc14f65d)\" d=\"M 257.820455 224.675052 \r\nL 308.547727 224.675052 \r\nL 308.547727 49.416353 \r\nL 257.820455 49.416353 \r\nz\r\n\" style=\"fill:#1f77b4;\"/>\r\n   </g>\r\n   <g id=\"patch_115\">\r\n    <path clip-path=\"url(#p9fdc14f65d)\" d=\"M 257.820455 224.675052 \r\nL 308.547727 224.675052 \r\nL 308.547727 64.202721 \r\nL 257.820455 64.202721 \r\nz\r\n\" style=\"fill:#1f77b4;\"/>\r\n   </g>\r\n   <g id=\"patch_116\">\r\n    <path clip-path=\"url(#p9fdc14f65d)\" d=\"M 257.820455 224.675052 \r\nL 308.547727 224.675052 \r\nL 308.547727 71.69562 \r\nL 257.820455 71.69562 \r\nz\r\n\" style=\"fill:#1f77b4;\"/>\r\n   </g>\r\n   <g id=\"patch_117\">\r\n    <path clip-path=\"url(#p9fdc14f65d)\" d=\"M 257.820455 224.675052 \r\nL 308.547727 224.675052 \r\nL 308.547727 103.364159 \r\nL 257.820455 103.364159 \r\nz\r\n\" style=\"fill:#1f77b4;\"/>\r\n   </g>\r\n   <g id=\"patch_118\">\r\n    <path clip-path=\"url(#p9fdc14f65d)\" d=\"M 257.820455 224.675052 \r\nL 308.547727 224.675052 \r\nL 308.547727 93.526167 \r\nL 257.820455 93.526167 \r\nz\r\n\" style=\"fill:#1f77b4;\"/>\r\n   </g>\r\n   <g id=\"patch_119\">\r\n    <path clip-path=\"url(#p9fdc14f65d)\" d=\"M 321.229545 224.675052 \r\nL 371.956818 224.675052 \r\nL 371.956818 224.648342 \r\nL 321.229545 224.648342 \r\nz\r\n\" style=\"fill:#1f77b4;\"/>\r\n   </g>\r\n   <g id=\"patch_120\">\r\n    <path clip-path=\"url(#p9fdc14f65d)\" d=\"M 321.229545 224.675052 \r\nL 371.956818 224.675052 \r\nL 371.956818 224.400835 \r\nL 321.229545 224.400835 \r\nz\r\n\" style=\"fill:#1f77b4;\"/>\r\n   </g>\r\n   <g id=\"patch_121\">\r\n    <path clip-path=\"url(#p9fdc14f65d)\" d=\"M 321.229545 224.675052 \r\nL 371.956818 224.675052 \r\nL 371.956818 224.048269 \r\nL 321.229545 224.048269 \r\nz\r\n\" style=\"fill:#1f77b4;\"/>\r\n   </g>\r\n   <g id=\"patch_122\">\r\n    <path clip-path=\"url(#p9fdc14f65d)\" d=\"M 321.229545 224.675052 \r\nL 371.956818 224.675052 \r\nL 371.956818 223.510519 \r\nL 321.229545 223.510519 \r\nz\r\n\" style=\"fill:#1f77b4;\"/>\r\n   </g>\r\n   <g id=\"patch_123\">\r\n    <path clip-path=\"url(#p9fdc14f65d)\" d=\"M 321.229545 224.675052 \r\nL 371.956818 224.675052 \r\nL 371.956818 223.076044 \r\nL 321.229545 223.076044 \r\nz\r\n\" style=\"fill:#1f77b4;\"/>\r\n   </g>\r\n   <g id=\"patch_124\">\r\n    <path clip-path=\"url(#p9fdc14f65d)\" d=\"M 321.229545 224.675052 \r\nL 371.956818 224.675052 \r\nL 371.956818 223.400119 \r\nL 321.229545 223.400119 \r\nz\r\n\" style=\"fill:#1f77b4;\"/>\r\n   </g>\r\n   <g id=\"patch_125\">\r\n    <path clip-path=\"url(#p9fdc14f65d)\" d=\"M 321.229545 224.675052 \r\nL 371.956818 224.675052 \r\nL 371.956818 223.309307 \r\nL 321.229545 223.309307 \r\nz\r\n\" style=\"fill:#1f77b4;\"/>\r\n   </g>\r\n   <g id=\"patch_126\">\r\n    <path clip-path=\"url(#p9fdc14f65d)\" d=\"M 321.229545 224.675052 \r\nL 371.956818 224.675052 \r\nL 371.956818 221.174329 \r\nL 321.229545 221.174329 \r\nz\r\n\" style=\"fill:#1f77b4;\"/>\r\n   </g>\r\n   <g id=\"patch_127\">\r\n    <path clip-path=\"url(#p9fdc14f65d)\" d=\"M 321.229545 224.675052 \r\nL 371.956818 224.675052 \r\nL 371.956818 220.755881 \r\nL 321.229545 220.755881 \r\nz\r\n\" style=\"fill:#1f77b4;\"/>\r\n   </g>\r\n   <g id=\"patch_128\">\r\n    <path clip-path=\"url(#p9fdc14f65d)\" d=\"M 321.229545 224.675052 \r\nL 371.956818 224.675052 \r\nL 371.956818 219.402601 \r\nL 321.229545 219.402601 \r\nz\r\n\" style=\"fill:#1f77b4;\"/>\r\n   </g>\r\n   <g id=\"patch_129\">\r\n    <path clip-path=\"url(#p9fdc14f65d)\" d=\"M 321.229545 224.675052 \r\nL 371.956818 224.675052 \r\nL 371.956818 215.048956 \r\nL 321.229545 215.048956 \r\nz\r\n\" style=\"fill:#1f77b4;\"/>\r\n   </g>\r\n   <g id=\"patch_130\">\r\n    <path clip-path=\"url(#p9fdc14f65d)\" d=\"M 321.229545 224.675052 \r\nL 371.956818 224.675052 \r\nL 371.956818 213.154363 \r\nL 321.229545 213.154363 \r\nz\r\n\" style=\"fill:#1f77b4;\"/>\r\n   </g>\r\n   <g id=\"patch_131\">\r\n    <path clip-path=\"url(#p9fdc14f65d)\" d=\"M 321.229545 224.675052 \r\nL 371.956818 224.675052 \r\nL 371.956818 211.400441 \r\nL 321.229545 211.400441 \r\nz\r\n\" style=\"fill:#1f77b4;\"/>\r\n   </g>\r\n   <g id=\"patch_132\">\r\n    <path clip-path=\"url(#p9fdc14f65d)\" d=\"M 321.229545 224.675052 \r\nL 371.956818 224.675052 \r\nL 371.956818 211.745883 \r\nL 321.229545 211.745883 \r\nz\r\n\" style=\"fill:#1f77b4;\"/>\r\n   </g>\r\n   <g id=\"patch_133\">\r\n    <path clip-path=\"url(#p9fdc14f65d)\" d=\"M 321.229545 224.675052 \r\nL 371.956818 224.675052 \r\nL 371.956818 201.898989 \r\nL 321.229545 201.898989 \r\nz\r\n\" style=\"fill:#1f77b4;\"/>\r\n   </g>\r\n   <g id=\"patch_134\">\r\n    <path clip-path=\"url(#p9fdc14f65d)\" d=\"M 321.229545 224.675052 \r\nL 371.956818 224.675052 \r\nL 371.956818 191.626523 \r\nL 321.229545 191.626523 \r\nz\r\n\" style=\"fill:#1f77b4;\"/>\r\n   </g>\r\n   <g id=\"patch_135\">\r\n    <path clip-path=\"url(#p9fdc14f65d)\" d=\"M 321.229545 224.675052 \r\nL 371.956818 224.675052 \r\nL 371.956818 179.281402 \r\nL 321.229545 179.281402 \r\nz\r\n\" style=\"fill:#1f77b4;\"/>\r\n   </g>\r\n   <g id=\"patch_136\">\r\n    <path clip-path=\"url(#p9fdc14f65d)\" d=\"M 321.229545 224.675052 \r\nL 371.956818 224.675052 \r\nL 371.956818 175.844782 \r\nL 321.229545 175.844782 \r\nz\r\n\" style=\"fill:#1f77b4;\"/>\r\n   </g>\r\n   <g id=\"patch_137\">\r\n    <path clip-path=\"url(#p9fdc14f65d)\" d=\"M 321.229545 224.675052 \r\nL 371.956818 224.675052 \r\nL 371.956818 168.784576 \r\nL 321.229545 168.784576 \r\nz\r\n\" style=\"fill:#1f77b4;\"/>\r\n   </g>\r\n   <g id=\"patch_138\">\r\n    <path clip-path=\"url(#p9fdc14f65d)\" d=\"M 321.229545 224.675052 \r\nL 371.956818 224.675052 \r\nL 371.956818 155.029195 \r\nL 321.229545 155.029195 \r\nz\r\n\" style=\"fill:#1f77b4;\"/>\r\n   </g>\r\n   <g id=\"patch_139\">\r\n    <path clip-path=\"url(#p9fdc14f65d)\" d=\"M 321.229545 224.675052 \r\nL 371.956818 224.675052 \r\nL 371.956818 147.637791 \r\nL 321.229545 147.637791 \r\nz\r\n\" style=\"fill:#1f77b4;\"/>\r\n   </g>\r\n   <g id=\"patch_140\">\r\n    <path clip-path=\"url(#p9fdc14f65d)\" d=\"M 321.229545 224.675052 \r\nL 371.956818 224.675052 \r\nL 371.956818 146.037003 \r\nL 321.229545 146.037003 \r\nz\r\n\" style=\"fill:#1f77b4;\"/>\r\n   </g>\r\n   <g id=\"patch_141\">\r\n    <path clip-path=\"url(#p9fdc14f65d)\" d=\"M 321.229545 224.675052 \r\nL 371.956818 224.675052 \r\nL 371.956818 150.340791 \r\nL 321.229545 150.340791 \r\nz\r\n\" style=\"fill:#1f77b4;\"/>\r\n   </g>\r\n   <g id=\"patch_142\">\r\n    <path clip-path=\"url(#p9fdc14f65d)\" d=\"M 321.229545 224.675052 \r\nL 371.956818 224.675052 \r\nL 371.956818 159.72116 \r\nL 321.229545 159.72116 \r\nz\r\n\" style=\"fill:#1f77b4;\"/>\r\n   </g>\r\n   <g id=\"patch_143\">\r\n    <path clip-path=\"url(#p9fdc14f65d)\" d=\"M 321.229545 224.675052 \r\nL 371.956818 224.675052 \r\nL 371.956818 149.724692 \r\nL 321.229545 149.724692 \r\nz\r\n\" style=\"fill:#1f77b4;\"/>\r\n   </g>\r\n   <g id=\"patch_144\">\r\n    <path clip-path=\"url(#p9fdc14f65d)\" d=\"M 321.229545 224.675052 \r\nL 371.956818 224.675052 \r\nL 371.956818 93.430013 \r\nL 321.229545 93.430013 \r\nz\r\n\" style=\"fill:#1f77b4;\"/>\r\n   </g>\r\n   <g id=\"patch_145\">\r\n    <path clip-path=\"url(#p9fdc14f65d)\" d=\"M 321.229545 224.675052 \r\nL 371.956818 224.675052 \r\nL 371.956818 166.364698 \r\nL 321.229545 166.364698 \r\nz\r\n\" style=\"fill:#1f77b4;\"/>\r\n   </g>\r\n   <g id=\"patch_146\">\r\n    <path clip-path=\"url(#p9fdc14f65d)\" d=\"M 321.229545 224.675052 \r\nL 371.956818 224.675052 \r\nL 371.956818 159.454065 \r\nL 321.229545 159.454065 \r\nz\r\n\" style=\"fill:#1f77b4;\"/>\r\n   </g>\r\n   <g id=\"matplotlib.axis_1\">\r\n    <g id=\"xtick_1\">\r\n     <g id=\"line2d_1\">\r\n      <defs>\r\n       <path d=\"M 0 0 \r\nL 0 3.5 \r\n\" id=\"md780010ba1\" style=\"stroke:#000000;stroke-width:0.8;\"/>\r\n      </defs>\r\n      <g>\r\n       <use style=\"stroke:#000000;stroke-width:0.8;\" x=\"92.956818\" xlink:href=\"#md780010ba1\" y=\"224.675052\"/>\r\n      </g>\r\n     </g>\r\n     <g id=\"text_1\">\r\n      <!-- centro-oeste -->\r\n      <defs>\r\n       <path d=\"M 48.78125 52.59375 \r\nL 48.78125 44.1875 \r\nQ 44.96875 46.296875 41.140625 47.34375 \r\nQ 37.3125 48.390625 33.40625 48.390625 \r\nQ 24.65625 48.390625 19.8125 42.84375 \r\nQ 14.984375 37.3125 14.984375 27.296875 \r\nQ 14.984375 17.28125 19.8125 11.734375 \r\nQ 24.65625 6.203125 33.40625 6.203125 \r\nQ 37.3125 6.203125 41.140625 7.25 \r\nQ 44.96875 8.296875 48.78125 10.40625 \r\nL 48.78125 2.09375 \r\nQ 45.015625 0.34375 40.984375 -0.53125 \r\nQ 36.96875 -1.421875 32.421875 -1.421875 \r\nQ 20.0625 -1.421875 12.78125 6.34375 \r\nQ 5.515625 14.109375 5.515625 27.296875 \r\nQ 5.515625 40.671875 12.859375 48.328125 \r\nQ 20.21875 56 33.015625 56 \r\nQ 37.15625 56 41.109375 55.140625 \r\nQ 45.0625 54.296875 48.78125 52.59375 \r\nz\r\n\" id=\"DejaVuSans-99\"/>\r\n       <path d=\"M 56.203125 29.59375 \r\nL 56.203125 25.203125 \r\nL 14.890625 25.203125 \r\nQ 15.484375 15.921875 20.484375 11.0625 \r\nQ 25.484375 6.203125 34.421875 6.203125 \r\nQ 39.59375 6.203125 44.453125 7.46875 \r\nQ 49.3125 8.734375 54.109375 11.28125 \r\nL 54.109375 2.78125 \r\nQ 49.265625 0.734375 44.1875 -0.34375 \r\nQ 39.109375 -1.421875 33.890625 -1.421875 \r\nQ 20.796875 -1.421875 13.15625 6.1875 \r\nQ 5.515625 13.8125 5.515625 26.8125 \r\nQ 5.515625 40.234375 12.765625 48.109375 \r\nQ 20.015625 56 32.328125 56 \r\nQ 43.359375 56 49.78125 48.890625 \r\nQ 56.203125 41.796875 56.203125 29.59375 \r\nz\r\nM 47.21875 32.234375 \r\nQ 47.125 39.59375 43.09375 43.984375 \r\nQ 39.0625 48.390625 32.421875 48.390625 \r\nQ 24.90625 48.390625 20.390625 44.140625 \r\nQ 15.875 39.890625 15.1875 32.171875 \r\nz\r\n\" id=\"DejaVuSans-101\"/>\r\n       <path d=\"M 54.890625 33.015625 \r\nL 54.890625 0 \r\nL 45.90625 0 \r\nL 45.90625 32.71875 \r\nQ 45.90625 40.484375 42.875 44.328125 \r\nQ 39.84375 48.1875 33.796875 48.1875 \r\nQ 26.515625 48.1875 22.3125 43.546875 \r\nQ 18.109375 38.921875 18.109375 30.90625 \r\nL 18.109375 0 \r\nL 9.078125 0 \r\nL 9.078125 54.6875 \r\nL 18.109375 54.6875 \r\nL 18.109375 46.1875 \r\nQ 21.34375 51.125 25.703125 53.5625 \r\nQ 30.078125 56 35.796875 56 \r\nQ 45.21875 56 50.046875 50.171875 \r\nQ 54.890625 44.34375 54.890625 33.015625 \r\nz\r\n\" id=\"DejaVuSans-110\"/>\r\n       <path d=\"M 18.3125 70.21875 \r\nL 18.3125 54.6875 \r\nL 36.8125 54.6875 \r\nL 36.8125 47.703125 \r\nL 18.3125 47.703125 \r\nL 18.3125 18.015625 \r\nQ 18.3125 11.328125 20.140625 9.421875 \r\nQ 21.96875 7.515625 27.59375 7.515625 \r\nL 36.8125 7.515625 \r\nL 36.8125 0 \r\nL 27.59375 0 \r\nQ 17.1875 0 13.234375 3.875 \r\nQ 9.28125 7.765625 9.28125 18.015625 \r\nL 9.28125 47.703125 \r\nL 2.6875 47.703125 \r\nL 2.6875 54.6875 \r\nL 9.28125 54.6875 \r\nL 9.28125 70.21875 \r\nz\r\n\" id=\"DejaVuSans-116\"/>\r\n       <path d=\"M 41.109375 46.296875 \r\nQ 39.59375 47.171875 37.8125 47.578125 \r\nQ 36.03125 48 33.890625 48 \r\nQ 26.265625 48 22.1875 43.046875 \r\nQ 18.109375 38.09375 18.109375 28.8125 \r\nL 18.109375 0 \r\nL 9.078125 0 \r\nL 9.078125 54.6875 \r\nL 18.109375 54.6875 \r\nL 18.109375 46.1875 \r\nQ 20.953125 51.171875 25.484375 53.578125 \r\nQ 30.03125 56 36.53125 56 \r\nQ 37.453125 56 38.578125 55.875 \r\nQ 39.703125 55.765625 41.0625 55.515625 \r\nz\r\n\" id=\"DejaVuSans-114\"/>\r\n       <path d=\"M 30.609375 48.390625 \r\nQ 23.390625 48.390625 19.1875 42.75 \r\nQ 14.984375 37.109375 14.984375 27.296875 \r\nQ 14.984375 17.484375 19.15625 11.84375 \r\nQ 23.34375 6.203125 30.609375 6.203125 \r\nQ 37.796875 6.203125 41.984375 11.859375 \r\nQ 46.1875 17.53125 46.1875 27.296875 \r\nQ 46.1875 37.015625 41.984375 42.703125 \r\nQ 37.796875 48.390625 30.609375 48.390625 \r\nz\r\nM 30.609375 56 \r\nQ 42.328125 56 49.015625 48.375 \r\nQ 55.71875 40.765625 55.71875 27.296875 \r\nQ 55.71875 13.875 49.015625 6.21875 \r\nQ 42.328125 -1.421875 30.609375 -1.421875 \r\nQ 18.84375 -1.421875 12.171875 6.21875 \r\nQ 5.515625 13.875 5.515625 27.296875 \r\nQ 5.515625 40.765625 12.171875 48.375 \r\nQ 18.84375 56 30.609375 56 \r\nz\r\n\" id=\"DejaVuSans-111\"/>\r\n       <path d=\"M 4.890625 31.390625 \r\nL 31.203125 31.390625 \r\nL 31.203125 23.390625 \r\nL 4.890625 23.390625 \r\nz\r\n\" id=\"DejaVuSans-45\"/>\r\n       <path d=\"M 44.28125 53.078125 \r\nL 44.28125 44.578125 \r\nQ 40.484375 46.53125 36.375 47.5 \r\nQ 32.28125 48.484375 27.875 48.484375 \r\nQ 21.1875 48.484375 17.84375 46.4375 \r\nQ 14.5 44.390625 14.5 40.28125 \r\nQ 14.5 37.15625 16.890625 35.375 \r\nQ 19.28125 33.59375 26.515625 31.984375 \r\nL 29.59375 31.296875 \r\nQ 39.15625 29.25 43.1875 25.515625 \r\nQ 47.21875 21.78125 47.21875 15.09375 \r\nQ 47.21875 7.46875 41.1875 3.015625 \r\nQ 35.15625 -1.421875 24.609375 -1.421875 \r\nQ 20.21875 -1.421875 15.453125 -0.5625 \r\nQ 10.6875 0.296875 5.421875 2 \r\nL 5.421875 11.28125 \r\nQ 10.40625 8.6875 15.234375 7.390625 \r\nQ 20.0625 6.109375 24.8125 6.109375 \r\nQ 31.15625 6.109375 34.5625 8.28125 \r\nQ 37.984375 10.453125 37.984375 14.40625 \r\nQ 37.984375 18.0625 35.515625 20.015625 \r\nQ 33.0625 21.96875 24.703125 23.78125 \r\nL 21.578125 24.515625 \r\nQ 13.234375 26.265625 9.515625 29.90625 \r\nQ 5.8125 33.546875 5.8125 39.890625 \r\nQ 5.8125 47.609375 11.28125 51.796875 \r\nQ 16.75 56 26.8125 56 \r\nQ 31.78125 56 36.171875 55.265625 \r\nQ 40.578125 54.546875 44.28125 53.078125 \r\nz\r\n\" id=\"DejaVuSans-115\"/>\r\n      </defs>\r\n      <g transform=\"translate(61.231037 239.273489)scale(0.1 -0.1)\">\r\n       <use xlink:href=\"#DejaVuSans-99\"/>\r\n       <use x=\"54.980469\" xlink:href=\"#DejaVuSans-101\"/>\r\n       <use x=\"116.503906\" xlink:href=\"#DejaVuSans-110\"/>\r\n       <use x=\"179.882812\" xlink:href=\"#DejaVuSans-116\"/>\r\n       <use x=\"219.091797\" xlink:href=\"#DejaVuSans-114\"/>\r\n       <use x=\"257.955078\" xlink:href=\"#DejaVuSans-111\"/>\r\n       <use x=\"321.011719\" xlink:href=\"#DejaVuSans-45\"/>\r\n       <use x=\"358.970703\" xlink:href=\"#DejaVuSans-111\"/>\r\n       <use x=\"420.152344\" xlink:href=\"#DejaVuSans-101\"/>\r\n       <use x=\"481.675781\" xlink:href=\"#DejaVuSans-115\"/>\r\n       <use x=\"533.775391\" xlink:href=\"#DejaVuSans-116\"/>\r\n       <use x=\"572.984375\" xlink:href=\"#DejaVuSans-101\"/>\r\n      </g>\r\n     </g>\r\n    </g>\r\n    <g id=\"xtick_2\">\r\n     <g id=\"line2d_2\">\r\n      <g>\r\n       <use style=\"stroke:#000000;stroke-width:0.8;\" x=\"156.365909\" xlink:href=\"#md780010ba1\" y=\"224.675052\"/>\r\n      </g>\r\n     </g>\r\n     <g id=\"text_2\">\r\n      <!-- nordeste -->\r\n      <defs>\r\n       <path d=\"M 45.40625 46.390625 \r\nL 45.40625 75.984375 \r\nL 54.390625 75.984375 \r\nL 54.390625 0 \r\nL 45.40625 0 \r\nL 45.40625 8.203125 \r\nQ 42.578125 3.328125 38.25 0.953125 \r\nQ 33.9375 -1.421875 27.875 -1.421875 \r\nQ 17.96875 -1.421875 11.734375 6.484375 \r\nQ 5.515625 14.40625 5.515625 27.296875 \r\nQ 5.515625 40.1875 11.734375 48.09375 \r\nQ 17.96875 56 27.875 56 \r\nQ 33.9375 56 38.25 53.625 \r\nQ 42.578125 51.265625 45.40625 46.390625 \r\nz\r\nM 14.796875 27.296875 \r\nQ 14.796875 17.390625 18.875 11.75 \r\nQ 22.953125 6.109375 30.078125 6.109375 \r\nQ 37.203125 6.109375 41.296875 11.75 \r\nQ 45.40625 17.390625 45.40625 27.296875 \r\nQ 45.40625 37.203125 41.296875 42.84375 \r\nQ 37.203125 48.484375 30.078125 48.484375 \r\nQ 22.953125 48.484375 18.875 42.84375 \r\nQ 14.796875 37.203125 14.796875 27.296875 \r\nz\r\n\" id=\"DejaVuSans-100\"/>\r\n      </defs>\r\n      <g transform=\"translate(134.277628 239.273489)scale(0.1 -0.1)\">\r\n       <use xlink:href=\"#DejaVuSans-110\"/>\r\n       <use x=\"63.378906\" xlink:href=\"#DejaVuSans-111\"/>\r\n       <use x=\"124.560547\" xlink:href=\"#DejaVuSans-114\"/>\r\n       <use x=\"163.923828\" xlink:href=\"#DejaVuSans-100\"/>\r\n       <use x=\"227.400391\" xlink:href=\"#DejaVuSans-101\"/>\r\n       <use x=\"288.923828\" xlink:href=\"#DejaVuSans-115\"/>\r\n       <use x=\"341.023438\" xlink:href=\"#DejaVuSans-116\"/>\r\n       <use x=\"380.232422\" xlink:href=\"#DejaVuSans-101\"/>\r\n      </g>\r\n     </g>\r\n    </g>\r\n    <g id=\"xtick_3\">\r\n     <g id=\"line2d_3\">\r\n      <g>\r\n       <use style=\"stroke:#000000;stroke-width:0.8;\" x=\"219.775\" xlink:href=\"#md780010ba1\" y=\"224.675052\"/>\r\n      </g>\r\n     </g>\r\n     <g id=\"text_3\">\r\n      <!-- norte -->\r\n      <g transform=\"translate(206.454687 239.273489)scale(0.1 -0.1)\">\r\n       <use xlink:href=\"#DejaVuSans-110\"/>\r\n       <use x=\"63.378906\" xlink:href=\"#DejaVuSans-111\"/>\r\n       <use x=\"124.560547\" xlink:href=\"#DejaVuSans-114\"/>\r\n       <use x=\"165.673828\" xlink:href=\"#DejaVuSans-116\"/>\r\n       <use x=\"204.882812\" xlink:href=\"#DejaVuSans-101\"/>\r\n      </g>\r\n     </g>\r\n    </g>\r\n    <g id=\"xtick_4\">\r\n     <g id=\"line2d_4\">\r\n      <g>\r\n       <use style=\"stroke:#000000;stroke-width:0.8;\" x=\"283.184091\" xlink:href=\"#md780010ba1\" y=\"224.675052\"/>\r\n      </g>\r\n     </g>\r\n     <g id=\"text_4\">\r\n      <!-- sudeste -->\r\n      <defs>\r\n       <path d=\"M 8.5 21.578125 \r\nL 8.5 54.6875 \r\nL 17.484375 54.6875 \r\nL 17.484375 21.921875 \r\nQ 17.484375 14.15625 20.5 10.265625 \r\nQ 23.53125 6.390625 29.59375 6.390625 \r\nQ 36.859375 6.390625 41.078125 11.03125 \r\nQ 45.3125 15.671875 45.3125 23.6875 \r\nL 45.3125 54.6875 \r\nL 54.296875 54.6875 \r\nL 54.296875 0 \r\nL 45.3125 0 \r\nL 45.3125 8.40625 \r\nQ 42.046875 3.421875 37.71875 1 \r\nQ 33.40625 -1.421875 27.6875 -1.421875 \r\nQ 18.265625 -1.421875 13.375 4.4375 \r\nQ 8.5 10.296875 8.5 21.578125 \r\nz\r\nM 31.109375 56 \r\nz\r\n\" id=\"DejaVuSans-117\"/>\r\n      </defs>\r\n      <g transform=\"translate(263.518466 239.273489)scale(0.1 -0.1)\">\r\n       <use xlink:href=\"#DejaVuSans-115\"/>\r\n       <use x=\"52.099609\" xlink:href=\"#DejaVuSans-117\"/>\r\n       <use x=\"115.478516\" xlink:href=\"#DejaVuSans-100\"/>\r\n       <use x=\"178.955078\" xlink:href=\"#DejaVuSans-101\"/>\r\n       <use x=\"240.478516\" xlink:href=\"#DejaVuSans-115\"/>\r\n       <use x=\"292.578125\" xlink:href=\"#DejaVuSans-116\"/>\r\n       <use x=\"331.787109\" xlink:href=\"#DejaVuSans-101\"/>\r\n      </g>\r\n     </g>\r\n    </g>\r\n    <g id=\"xtick_5\">\r\n     <g id=\"line2d_5\">\r\n      <g>\r\n       <use style=\"stroke:#000000;stroke-width:0.8;\" x=\"346.593182\" xlink:href=\"#md780010ba1\" y=\"224.675052\"/>\r\n      </g>\r\n     </g>\r\n     <g id=\"text_5\">\r\n      <!-- sul -->\r\n      <defs>\r\n       <path d=\"M 9.421875 75.984375 \r\nL 18.40625 75.984375 \r\nL 18.40625 0 \r\nL 9.421875 0 \r\nz\r\n\" id=\"DejaVuSans-108\"/>\r\n      </defs>\r\n      <g transform=\"translate(339.430682 239.273489)scale(0.1 -0.1)\">\r\n       <use xlink:href=\"#DejaVuSans-115\"/>\r\n       <use x=\"52.099609\" xlink:href=\"#DejaVuSans-117\"/>\r\n       <use x=\"115.478516\" xlink:href=\"#DejaVuSans-108\"/>\r\n      </g>\r\n     </g>\r\n    </g>\r\n   </g>\r\n   <g id=\"matplotlib.axis_2\">\r\n    <g id=\"ytick_1\">\r\n     <g id=\"line2d_6\">\r\n      <defs>\r\n       <path d=\"M 0 0 \r\nL -3.5 0 \r\n\" id=\"m70996400aa\" style=\"stroke:#000000;stroke-width:0.8;\"/>\r\n      </defs>\r\n      <g>\r\n       <use style=\"stroke:#000000;stroke-width:0.8;\" x=\"52.375\" xlink:href=\"#m70996400aa\" y=\"224.675052\"/>\r\n      </g>\r\n     </g>\r\n     <g id=\"text_6\">\r\n      <!-- 0 -->\r\n      <defs>\r\n       <path d=\"M 31.78125 66.40625 \r\nQ 24.171875 66.40625 20.328125 58.90625 \r\nQ 16.5 51.421875 16.5 36.375 \r\nQ 16.5 21.390625 20.328125 13.890625 \r\nQ 24.171875 6.390625 31.78125 6.390625 \r\nQ 39.453125 6.390625 43.28125 13.890625 \r\nQ 47.125 21.390625 47.125 36.375 \r\nQ 47.125 51.421875 43.28125 58.90625 \r\nQ 39.453125 66.40625 31.78125 66.40625 \r\nz\r\nM 31.78125 74.21875 \r\nQ 44.046875 74.21875 50.515625 64.515625 \r\nQ 56.984375 54.828125 56.984375 36.375 \r\nQ 56.984375 17.96875 50.515625 8.265625 \r\nQ 44.046875 -1.421875 31.78125 -1.421875 \r\nQ 19.53125 -1.421875 13.0625 8.265625 \r\nQ 6.59375 17.96875 6.59375 36.375 \r\nQ 6.59375 54.828125 13.0625 64.515625 \r\nQ 19.53125 74.21875 31.78125 74.21875 \r\nz\r\n\" id=\"DejaVuSans-48\"/>\r\n      </defs>\r\n      <g transform=\"translate(39.0125 228.474271)scale(0.1 -0.1)\">\r\n       <use xlink:href=\"#DejaVuSans-48\"/>\r\n      </g>\r\n     </g>\r\n    </g>\r\n    <g id=\"ytick_2\">\r\n     <g id=\"line2d_7\">\r\n      <g>\r\n       <use style=\"stroke:#000000;stroke-width:0.8;\" x=\"52.375\" xlink:href=\"#m70996400aa\" y=\"189.062413\"/>\r\n      </g>\r\n     </g>\r\n     <g id=\"text_7\">\r\n      <!-- 20000 -->\r\n      <defs>\r\n       <path d=\"M 19.1875 8.296875 \r\nL 53.609375 8.296875 \r\nL 53.609375 0 \r\nL 7.328125 0 \r\nL 7.328125 8.296875 \r\nQ 12.9375 14.109375 22.625 23.890625 \r\nQ 32.328125 33.6875 34.8125 36.53125 \r\nQ 39.546875 41.84375 41.421875 45.53125 \r\nQ 43.3125 49.21875 43.3125 52.78125 \r\nQ 43.3125 58.59375 39.234375 62.25 \r\nQ 35.15625 65.921875 28.609375 65.921875 \r\nQ 23.96875 65.921875 18.8125 64.3125 \r\nQ 13.671875 62.703125 7.8125 59.421875 \r\nL 7.8125 69.390625 \r\nQ 13.765625 71.78125 18.9375 73 \r\nQ 24.125 74.21875 28.421875 74.21875 \r\nQ 39.75 74.21875 46.484375 68.546875 \r\nQ 53.21875 62.890625 53.21875 53.421875 \r\nQ 53.21875 48.921875 51.53125 44.890625 \r\nQ 49.859375 40.875 45.40625 35.40625 \r\nQ 44.1875 33.984375 37.640625 27.21875 \r\nQ 31.109375 20.453125 19.1875 8.296875 \r\nz\r\n\" id=\"DejaVuSans-50\"/>\r\n      </defs>\r\n      <g transform=\"translate(13.5625 192.861632)scale(0.1 -0.1)\">\r\n       <use xlink:href=\"#DejaVuSans-50\"/>\r\n       <use x=\"63.623047\" xlink:href=\"#DejaVuSans-48\"/>\r\n       <use x=\"127.246094\" xlink:href=\"#DejaVuSans-48\"/>\r\n       <use x=\"190.869141\" xlink:href=\"#DejaVuSans-48\"/>\r\n       <use x=\"254.492188\" xlink:href=\"#DejaVuSans-48\"/>\r\n      </g>\r\n     </g>\r\n    </g>\r\n    <g id=\"ytick_3\">\r\n     <g id=\"line2d_8\">\r\n      <g>\r\n       <use style=\"stroke:#000000;stroke-width:0.8;\" x=\"52.375\" xlink:href=\"#m70996400aa\" y=\"153.449774\"/>\r\n      </g>\r\n     </g>\r\n     <g id=\"text_8\">\r\n      <!-- 40000 -->\r\n      <defs>\r\n       <path d=\"M 37.796875 64.3125 \r\nL 12.890625 25.390625 \r\nL 37.796875 25.390625 \r\nz\r\nM 35.203125 72.90625 \r\nL 47.609375 72.90625 \r\nL 47.609375 25.390625 \r\nL 58.015625 25.390625 \r\nL 58.015625 17.1875 \r\nL 47.609375 17.1875 \r\nL 47.609375 0 \r\nL 37.796875 0 \r\nL 37.796875 17.1875 \r\nL 4.890625 17.1875 \r\nL 4.890625 26.703125 \r\nz\r\n\" id=\"DejaVuSans-52\"/>\r\n      </defs>\r\n      <g transform=\"translate(13.5625 157.248993)scale(0.1 -0.1)\">\r\n       <use xlink:href=\"#DejaVuSans-52\"/>\r\n       <use x=\"63.623047\" xlink:href=\"#DejaVuSans-48\"/>\r\n       <use x=\"127.246094\" xlink:href=\"#DejaVuSans-48\"/>\r\n       <use x=\"190.869141\" xlink:href=\"#DejaVuSans-48\"/>\r\n       <use x=\"254.492188\" xlink:href=\"#DejaVuSans-48\"/>\r\n      </g>\r\n     </g>\r\n    </g>\r\n    <g id=\"ytick_4\">\r\n     <g id=\"line2d_9\">\r\n      <g>\r\n       <use style=\"stroke:#000000;stroke-width:0.8;\" x=\"52.375\" xlink:href=\"#m70996400aa\" y=\"117.837135\"/>\r\n      </g>\r\n     </g>\r\n     <g id=\"text_9\">\r\n      <!-- 60000 -->\r\n      <defs>\r\n       <path d=\"M 33.015625 40.375 \r\nQ 26.375 40.375 22.484375 35.828125 \r\nQ 18.609375 31.296875 18.609375 23.390625 \r\nQ 18.609375 15.53125 22.484375 10.953125 \r\nQ 26.375 6.390625 33.015625 6.390625 \r\nQ 39.65625 6.390625 43.53125 10.953125 \r\nQ 47.40625 15.53125 47.40625 23.390625 \r\nQ 47.40625 31.296875 43.53125 35.828125 \r\nQ 39.65625 40.375 33.015625 40.375 \r\nz\r\nM 52.59375 71.296875 \r\nL 52.59375 62.3125 \r\nQ 48.875 64.0625 45.09375 64.984375 \r\nQ 41.3125 65.921875 37.59375 65.921875 \r\nQ 27.828125 65.921875 22.671875 59.328125 \r\nQ 17.53125 52.734375 16.796875 39.40625 \r\nQ 19.671875 43.65625 24.015625 45.921875 \r\nQ 28.375 48.1875 33.59375 48.1875 \r\nQ 44.578125 48.1875 50.953125 41.515625 \r\nQ 57.328125 34.859375 57.328125 23.390625 \r\nQ 57.328125 12.15625 50.6875 5.359375 \r\nQ 44.046875 -1.421875 33.015625 -1.421875 \r\nQ 20.359375 -1.421875 13.671875 8.265625 \r\nQ 6.984375 17.96875 6.984375 36.375 \r\nQ 6.984375 53.65625 15.1875 63.9375 \r\nQ 23.390625 74.21875 37.203125 74.21875 \r\nQ 40.921875 74.21875 44.703125 73.484375 \r\nQ 48.484375 72.75 52.59375 71.296875 \r\nz\r\n\" id=\"DejaVuSans-54\"/>\r\n      </defs>\r\n      <g transform=\"translate(13.5625 121.636354)scale(0.1 -0.1)\">\r\n       <use xlink:href=\"#DejaVuSans-54\"/>\r\n       <use x=\"63.623047\" xlink:href=\"#DejaVuSans-48\"/>\r\n       <use x=\"127.246094\" xlink:href=\"#DejaVuSans-48\"/>\r\n       <use x=\"190.869141\" xlink:href=\"#DejaVuSans-48\"/>\r\n       <use x=\"254.492188\" xlink:href=\"#DejaVuSans-48\"/>\r\n      </g>\r\n     </g>\r\n    </g>\r\n    <g id=\"ytick_5\">\r\n     <g id=\"line2d_10\">\r\n      <g>\r\n       <use style=\"stroke:#000000;stroke-width:0.8;\" x=\"52.375\" xlink:href=\"#m70996400aa\" y=\"82.224496\"/>\r\n      </g>\r\n     </g>\r\n     <g id=\"text_10\">\r\n      <!-- 80000 -->\r\n      <defs>\r\n       <path d=\"M 31.78125 34.625 \r\nQ 24.75 34.625 20.71875 30.859375 \r\nQ 16.703125 27.09375 16.703125 20.515625 \r\nQ 16.703125 13.921875 20.71875 10.15625 \r\nQ 24.75 6.390625 31.78125 6.390625 \r\nQ 38.8125 6.390625 42.859375 10.171875 \r\nQ 46.921875 13.96875 46.921875 20.515625 \r\nQ 46.921875 27.09375 42.890625 30.859375 \r\nQ 38.875 34.625 31.78125 34.625 \r\nz\r\nM 21.921875 38.8125 \r\nQ 15.578125 40.375 12.03125 44.71875 \r\nQ 8.5 49.078125 8.5 55.328125 \r\nQ 8.5 64.0625 14.71875 69.140625 \r\nQ 20.953125 74.21875 31.78125 74.21875 \r\nQ 42.671875 74.21875 48.875 69.140625 \r\nQ 55.078125 64.0625 55.078125 55.328125 \r\nQ 55.078125 49.078125 51.53125 44.71875 \r\nQ 48 40.375 41.703125 38.8125 \r\nQ 48.828125 37.15625 52.796875 32.3125 \r\nQ 56.78125 27.484375 56.78125 20.515625 \r\nQ 56.78125 9.90625 50.3125 4.234375 \r\nQ 43.84375 -1.421875 31.78125 -1.421875 \r\nQ 19.734375 -1.421875 13.25 4.234375 \r\nQ 6.78125 9.90625 6.78125 20.515625 \r\nQ 6.78125 27.484375 10.78125 32.3125 \r\nQ 14.796875 37.15625 21.921875 38.8125 \r\nz\r\nM 18.3125 54.390625 \r\nQ 18.3125 48.734375 21.84375 45.5625 \r\nQ 25.390625 42.390625 31.78125 42.390625 \r\nQ 38.140625 42.390625 41.71875 45.5625 \r\nQ 45.3125 48.734375 45.3125 54.390625 \r\nQ 45.3125 60.0625 41.71875 63.234375 \r\nQ 38.140625 66.40625 31.78125 66.40625 \r\nQ 25.390625 66.40625 21.84375 63.234375 \r\nQ 18.3125 60.0625 18.3125 54.390625 \r\nz\r\n\" id=\"DejaVuSans-56\"/>\r\n      </defs>\r\n      <g transform=\"translate(13.5625 86.023715)scale(0.1 -0.1)\">\r\n       <use xlink:href=\"#DejaVuSans-56\"/>\r\n       <use x=\"63.623047\" xlink:href=\"#DejaVuSans-48\"/>\r\n       <use x=\"127.246094\" xlink:href=\"#DejaVuSans-48\"/>\r\n       <use x=\"190.869141\" xlink:href=\"#DejaVuSans-48\"/>\r\n       <use x=\"254.492188\" xlink:href=\"#DejaVuSans-48\"/>\r\n      </g>\r\n     </g>\r\n    </g>\r\n    <g id=\"ytick_6\">\r\n     <g id=\"line2d_11\">\r\n      <g>\r\n       <use style=\"stroke:#000000;stroke-width:0.8;\" x=\"52.375\" xlink:href=\"#m70996400aa\" y=\"46.611858\"/>\r\n      </g>\r\n     </g>\r\n     <g id=\"text_11\">\r\n      <!-- 100000 -->\r\n      <defs>\r\n       <path d=\"M 12.40625 8.296875 \r\nL 28.515625 8.296875 \r\nL 28.515625 63.921875 \r\nL 10.984375 60.40625 \r\nL 10.984375 69.390625 \r\nL 28.421875 72.90625 \r\nL 38.28125 72.90625 \r\nL 38.28125 8.296875 \r\nL 54.390625 8.296875 \r\nL 54.390625 0 \r\nL 12.40625 0 \r\nz\r\n\" id=\"DejaVuSans-49\"/>\r\n      </defs>\r\n      <g transform=\"translate(7.2 50.411076)scale(0.1 -0.1)\">\r\n       <use xlink:href=\"#DejaVuSans-49\"/>\r\n       <use x=\"63.623047\" xlink:href=\"#DejaVuSans-48\"/>\r\n       <use x=\"127.246094\" xlink:href=\"#DejaVuSans-48\"/>\r\n       <use x=\"190.869141\" xlink:href=\"#DejaVuSans-48\"/>\r\n       <use x=\"254.492188\" xlink:href=\"#DejaVuSans-48\"/>\r\n       <use x=\"318.115234\" xlink:href=\"#DejaVuSans-48\"/>\r\n      </g>\r\n     </g>\r\n    </g>\r\n    <g id=\"ytick_7\">\r\n     <g id=\"line2d_12\">\r\n      <g>\r\n       <use style=\"stroke:#000000;stroke-width:0.8;\" x=\"52.375\" xlink:href=\"#m70996400aa\" y=\"10.999219\"/>\r\n      </g>\r\n     </g>\r\n     <g id=\"text_12\">\r\n      <!-- 120000 -->\r\n      <g transform=\"translate(7.2 14.798437)scale(0.1 -0.1)\">\r\n       <use xlink:href=\"#DejaVuSans-49\"/>\r\n       <use x=\"63.623047\" xlink:href=\"#DejaVuSans-50\"/>\r\n       <use x=\"127.246094\" xlink:href=\"#DejaVuSans-48\"/>\r\n       <use x=\"190.869141\" xlink:href=\"#DejaVuSans-48\"/>\r\n       <use x=\"254.492188\" xlink:href=\"#DejaVuSans-48\"/>\r\n       <use x=\"318.115234\" xlink:href=\"#DejaVuSans-48\"/>\r\n      </g>\r\n     </g>\r\n    </g>\r\n   </g>\r\n   <g id=\"patch_147\">\r\n    <path d=\"M 52.375 224.675052 \r\nL 52.375 7.235052 \r\n\" style=\"fill:none;stroke:#000000;stroke-linecap:square;stroke-linejoin:miter;stroke-width:0.8;\"/>\r\n   </g>\r\n   <g id=\"patch_148\">\r\n    <path d=\"M 387.175 224.675052 \r\nL 387.175 7.235052 \r\n\" style=\"fill:none;stroke:#000000;stroke-linecap:square;stroke-linejoin:miter;stroke-width:0.8;\"/>\r\n   </g>\r\n   <g id=\"patch_149\">\r\n    <path d=\"M 52.375 224.675052 \r\nL 387.175 224.675052 \r\n\" style=\"fill:none;stroke:#000000;stroke-linecap:square;stroke-linejoin:miter;stroke-width:0.8;\"/>\r\n   </g>\r\n   <g id=\"patch_150\">\r\n    <path d=\"M 52.375 7.235052 \r\nL 387.175 7.235052 \r\n\" style=\"fill:none;stroke:#000000;stroke-linecap:square;stroke-linejoin:miter;stroke-width:0.8;\"/>\r\n   </g>\r\n  </g>\r\n </g>\r\n <defs>\r\n  <clipPath id=\"p9fdc14f65d\">\r\n   <rect height=\"217.44\" width=\"334.8\" x=\"52.375\" y=\"7.235052\"/>\r\n  </clipPath>\r\n </defs>\r\n</svg>\r\n",
      "image/png": "[encoded data removed]"
     },
     "metadata": {
      "needs_background": "light"
     }
    }
   ],
   "source": [
    "#exemplo de plotagem\n",
    "import matplotlib.pyplot as plt\n",
    "\n",
    "##MODELO: \"SELECT colunas FROM tabela\"\n",
    "\n",
    "cur.execute(\"SELECT region, epidemiological_week, new_week_cases FROM regions_df\")\n",
    "\n",
    "regioes = []\n",
    "semana_ep = []      #<----não está sendo usado no exemplo\n",
    "novos_casos = []\n",
    "\n",
    "dados = cur.fetchall() \n",
    "for linha in dados:\n",
    "    regioes.append(linha[0])\n",
    "    semana_ep.append(linha[1])     #<----não está sendo usado no exemplo\n",
    "    novos_casos.append(linha[2])\n",
    "    \n",
    "plt.bar(regioes, novos_casos)\n",
    "plt.show()"
   ]
  },
  {
   "cell_type": "markdown",
   "metadata": {},
   "source": [
    "### CONSULTAS - modo visual (recomendado)\n",
    "- Para conseguir visualizar diretamente o banco de dados (sem o python), entre em 'https://sqlitebrowser.org/dl/' e baixe o SqLite Browser. Nele é possível fazer consultas e conferência de dados. (essa aplicação é leve e confiável)\n",
    "- Com o programa instalado, basta abrir o arquivo \"indicadores.db\" e depoir ir em \"tabelas\". Depois clique com o botão direito em uma delas e selecione a opção \"navegar tabelas\". Lá é possivel visualizar e filtar dados diretamente."
   ]
  },
  {
   "cell_type": "markdown",
   "metadata": {},
   "source": [
    "### CONSULTAS - por código\n",
    "- Também é possível fazer solicitações específicas para o banco de dados diretamente por meio de instruções SQL. Abaixo há um exemplo que soma o total de habitantes da tabela de cidades para as cidades da região sudeste."
   ]
  },
  {
   "cell_type": "code",
   "execution_count": 221,
   "metadata": {},
   "outputs": [
    {
     "output_type": "execute_result",
     "data": {
      "text/plain": [
       "   sum(total_inhabitants)\n",
       "0            2.675357e+09"
      ],
      "text/html": "<div>\n<style scoped>\n    .dataframe tbody tr th:only-of-type {\n        vertical-align: middle;\n    }\n\n    .dataframe tbody tr th {\n        vertical-align: top;\n    }\n\n    .dataframe thead th {\n        text-align: right;\n    }\n</style>\n<table border=\"1\" class=\"dataframe\">\n  <thead>\n    <tr style=\"text-align: right;\">\n      <th></th>\n      <th>sum(total_inhabitants)</th>\n    </tr>\n  </thead>\n  <tbody>\n    <tr>\n      <th>0</th>\n      <td>2.675357e+09</td>\n    </tr>\n  </tbody>\n</table>\n</div>"
     },
     "metadata": {},
     "execution_count": 221
    }
   ],
   "source": [
    "##Consultar soma de valores\n",
    "##ALTERE esses valores para personalizar sua consulta\n",
    "\n",
    "col = 'total_inhabitants'  ##Coluna que você quer somar\n",
    "tabela = 'cities_df'       ##De qual tabela ela é\n",
    "col_condicao = 'region'    ##Filtrar por alguma outra coluna \n",
    "condicao = 'sudeste'       ##Condição para filtrar\n",
    "\n",
    "#executa instrução\n",
    "pd.read_sql(\"select sum({}) from {} where {} = '{}' \".format(col, tabela, col_condicao, condicao), con )"
   ]
  },
  {
   "cell_type": "code",
   "execution_count": null,
   "metadata": {},
   "outputs": [],
   "source": []
  }
 ],
 "metadata": {
  "kernelspec": {
   "display_name": "Python 3",
   "language": "python",
   "name": "python3"
  },
  "language_info": {
   "codemirror_mode": {
    "name": "ipython",
    "version": 3
   },
   "file_extension": ".py",
   "mimetype": "text/x-python",
   "name": "python",
   "nbconvert_exporter": "python",
   "pygments_lexer": "ipython3",
   "version": "3.8.3-final"
  }
 },
 "nbformat": 4,
 "nbformat_minor": 4
}