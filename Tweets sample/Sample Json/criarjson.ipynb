{
 "cells": [
  {
   "cell_type": "code",
   "execution_count": 1,
   "metadata": {},
   "outputs": [],
   "source": [
    "import time"
   ]
  },
  {
   "cell_type": "code",
   "execution_count": null,
   "metadata": {},
   "outputs": [],
   "source": []
  },
  {
   "cell_type": "code",
   "execution_count": 12,
   "metadata": {},
   "outputs": [],
   "source": [
    "sample7m = 'D:\\\\01_databases\\\\CovidDataAnalytics\\\\Tweets\\\\Gisele DCC\\\\tweets_222_23abr2020.json'"
   ]
  },
  {
   "cell_type": "code",
   "execution_count": null,
   "metadata": {},
   "outputs": [],
   "source": []
  },
  {
   "cell_type": "code",
   "execution_count": 9,
   "metadata": {},
   "outputs": [],
   "source": [
    "def jsonlist(readfile):\n",
    "\n",
    "    newfile =  '100k_list_' + 'teste'+ '.json'\n",
    "\n",
    "    with open(readfile, 'r', encoding='utf-8') as tweets:\n",
    "        with open(newfile, 'w', encoding='utf-8') as writefile:\n",
    "            inicio = time.time()\n",
    "\n",
    "            writefile.write('[')\n",
    "            count = 0\n",
    "            for i, linha in enumerate(tweets):\n",
    "\n",
    "                if i % 70 == 0 or i % 44357 == 0 or (i - 1) % 3104990 == 0:\n",
    "                    if i != 0:\n",
    "                        writefile.write(',\\n')\n",
    "                    writefile.write(linha[:-1]) \n",
    "                    count +=1\n",
    "\n",
    "            writefile.write(']')\n",
    "\n",
    "\n",
    "\n",
    "    return count"
   ]
  },
  {
   "cell_type": "code",
   "execution_count": 13,
   "metadata": {
    "tags": []
   },
   "outputs": [
    {
     "output_type": "execute_result",
     "data": {
      "text/plain": "16"
     },
     "metadata": {},
     "execution_count": 13
    }
   ],
   "source": [
    "jsonlist(sample1k)"
   ]
  },
  {
   "cell_type": "code",
   "execution_count": 14,
   "metadata": {},
   "outputs": [],
   "source": [
    "def jsonorigin(readfile):\n",
    "\n",
    "    newfile =  '100k_origin_' + 'teste'+ '.json'\n",
    "\n",
    "    with open(readfile, 'r', encoding='utf-8') as tweets:\n",
    "        with open(newfile, 'w', encoding='utf-8') as writefile:\n",
    "            inicio = time.time()\n",
    "\n",
    "            count = 0\n",
    "            for i, linha in enumerate(tweets):\n",
    "                if i % 70 == 0 or i % 44357 == 0 or (i - 1) % 3104990 == 0:\n",
    "                    writefile.writelines(linha) \n",
    "                    count +=1\n",
    "\n",
    "\n",
    "\n",
    "\n",
    "    return count"
   ]
  },
  {
   "cell_type": "code",
   "execution_count": 15,
   "metadata": {
    "tags": []
   },
   "outputs": [
    {
     "output_type": "execute_result",
     "data": {
      "text/plain": "16"
     },
     "metadata": {},
     "execution_count": 15
    }
   ],
   "source": [
    "jsonorigin(sample1k)"
   ]
  },
  {
   "cell_type": "code",
   "execution_count": null,
   "metadata": {},
   "outputs": [],
   "source": []
  },
  {
   "cell_type": "code",
   "execution_count": null,
   "metadata": {},
   "outputs": [],
   "source": []
  },
  {
   "cell_type": "code",
   "execution_count": null,
   "metadata": {},
   "outputs": [],
   "source": []
  }
 ],
 "metadata": {
  "language_info": {
   "codemirror_mode": {
    "name": "ipython",
    "version": 3
   },
   "file_extension": ".py",
   "mimetype": "text/x-python",
   "name": "python",
   "nbconvert_exporter": "python",
   "pygments_lexer": "ipython3",
   "version": "3.7.8-final"
  },
  "orig_nbformat": 2,
  "kernelspec": {
   "name": "python_defaultSpec_1600812131997",
   "display_name": "Python 3.7.8 64-bit"
  }
 },
 "nbformat": 4,
 "nbformat_minor": 2
}